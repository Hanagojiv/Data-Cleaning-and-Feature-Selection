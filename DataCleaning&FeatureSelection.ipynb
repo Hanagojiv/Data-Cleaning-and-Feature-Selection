{
  "nbformat": 4,
  "nbformat_minor": 0,
  "metadata": {
    "colab": {
      "provenance": []
    },
    "kernelspec": {
      "name": "python3",
      "display_name": "Python 3"
    },
    "language_info": {
      "name": "python"
    }
  },
  "cells": [
    {
      "cell_type": "markdown",
      "source": [
        " \n",
        "# Data Science Engineering Methods and Tools \n",
        "# Assignment 01: Machine Learning Data Cleaning and Feature Selection\n",
        "\n",
        "\n",
        "# **Backgroud**\n",
        "\n",
        "At a celebration honoring International Day of Happiness on March 20, the World Happiness 2015, which rates 155 nations according on their happiness levels, was unveiled. As more governments, companies, and members of civil society utilize happiness indices to guide their policy decisions, the report continues to acquire awareness on a global scale. Leading experts from a variety of disciplines, including economics, psychology, survey analysis, national statistics, health, and public policy, explain how well-being indicators can be used to evaluate a country's progress. The studies examine the current state of happiness in the globe and demonstrate how the personal and regional variations in happiness are explained by the new science of happiness.\n",
        " \n",
        " \n",
        " \n",
        "\n",
        "\n",
        "\n",
        "# **Abstract**\n",
        "\n",
        "\n",
        "> The goal of this notebook is to predict the happiness score of countries around the world depending upon many factors such as economic production, social support, life expectancy, freedom, absense of corruption and generosity.\n",
        "\n",
        "\n",
        "\n",
        "> The notebook has used statistical methods like p-value, t-statistics and visualization techniques like histogram, Q-Q plot, scatter plot, box-plot of python's matplotlib and seaborn library to answer below questions about the dataset:\n",
        "\n",
        "\n",
        "\n",
        "> *   What are the data types? (Only numeric and categorical)\n",
        "*   Are there missing values?\n",
        "*   What are the likely distributions of the numeric variables?\n",
        "*   Which independent variables are useful to predict a target (dependent variable)? (Use at least three methods)\n",
        "*   Which independent variables have missing data? How much? \n",
        "*   Do the training and test sets have the same data?\n",
        "*   In the predictor variables independent of all the other predictor variables?\n",
        "*   Which predictor variables are the most important?\n",
        "*   Do the ranges of the predictor variables make sense?\n",
        "*   What are the distributions of the predictor variables?   \n",
        "*   Remove outliers and keep outliers (does if have an effect of the final predictive model)?\n",
        "*   Remove 1%, 5%, and 10% of your data randomly and impute the values back using at least 3 imputation methods. How well did the methods recover the missing values?  That is remove some data, check the % error on residuals for numeric data and check for bias and variance of the error.\n",
        "\n",
        "\n",
        "\n",
        "> Overall, the data looks clean and there are no missing and inconsistent values. The significance of the predictors is investigated and it appears that all independent variables are significant except one, these results can be used to further optimize the model for predicting Happiness score give better predictions"
      ],
      "metadata": {
        "id": "nJcWvvGiFb1Q"
      }
    },
    {
      "cell_type": "code",
      "source": [],
      "metadata": {
        "id": "Sa8dNtq14VWz"
      },
      "execution_count": null,
      "outputs": []
    },
    {
      "cell_type": "markdown",
      "source": [
        "# Importing Libraries and Dataset"
      ],
      "metadata": {
        "id": "1wRCzK1tYLqU"
      }
    },
    {
      "cell_type": "code",
      "execution_count": 2,
      "metadata": {
        "colab": {
          "base_uri": "https://localhost:8080/"
        },
        "id": "8NLpomNL3fAb",
        "outputId": "5018bf02-eacd-4188-e5fa-abd509d1b922"
      },
      "outputs": [
        {
          "output_type": "stream",
          "name": "stdout",
          "text": [
            "Looking in indexes: https://pypi.org/simple, https://us-python.pkg.dev/colab-wheels/public/simple/\n",
            "Collecting eli5\n",
            "  Downloading eli5-0.13.0.tar.gz (216 kB)\n",
            "\u001b[2K     \u001b[90m━━━━━━━━━━━━━━━━━━━━━━━━━━━━━━━━━━━━━━━\u001b[0m \u001b[32m216.2/216.2 KB\u001b[0m \u001b[31m4.4 MB/s\u001b[0m eta \u001b[36m0:00:00\u001b[0m\n",
            "\u001b[?25h  Preparing metadata (setup.py) ... \u001b[?25l\u001b[?25hdone\n",
            "Requirement already satisfied: attrs>17.1.0 in /usr/local/lib/python3.8/dist-packages (from eli5) (22.2.0)\n",
            "Collecting jinja2>=3.0.0\n",
            "  Downloading Jinja2-3.1.2-py3-none-any.whl (133 kB)\n",
            "\u001b[2K     \u001b[90m━━━━━━━━━━━━━━━━━━━━━━━━━━━━━━━━━━━━━━\u001b[0m \u001b[32m133.1/133.1 KB\u001b[0m \u001b[31m13.3 MB/s\u001b[0m eta \u001b[36m0:00:00\u001b[0m\n",
            "\u001b[?25hRequirement already satisfied: numpy>=1.9.0 in /usr/local/lib/python3.8/dist-packages (from eli5) (1.21.6)\n",
            "Requirement already satisfied: scipy in /usr/local/lib/python3.8/dist-packages (from eli5) (1.7.3)\n",
            "Requirement already satisfied: six in /usr/local/lib/python3.8/dist-packages (from eli5) (1.15.0)\n",
            "Requirement already satisfied: scikit-learn>=0.20 in /usr/local/lib/python3.8/dist-packages (from eli5) (1.0.2)\n",
            "Requirement already satisfied: graphviz in /usr/local/lib/python3.8/dist-packages (from eli5) (0.10.1)\n",
            "Requirement already satisfied: tabulate>=0.7.7 in /usr/local/lib/python3.8/dist-packages (from eli5) (0.8.10)\n",
            "Requirement already satisfied: MarkupSafe>=2.0 in /usr/local/lib/python3.8/dist-packages (from jinja2>=3.0.0->eli5) (2.0.1)\n",
            "Requirement already satisfied: threadpoolctl>=2.0.0 in /usr/local/lib/python3.8/dist-packages (from scikit-learn>=0.20->eli5) (3.1.0)\n",
            "Requirement already satisfied: joblib>=0.11 in /usr/local/lib/python3.8/dist-packages (from scikit-learn>=0.20->eli5) (1.2.0)\n",
            "Building wheels for collected packages: eli5\n",
            "  Building wheel for eli5 (setup.py) ... \u001b[?25l\u001b[?25hdone\n",
            "  Created wheel for eli5: filename=eli5-0.13.0-py2.py3-none-any.whl size=107748 sha256=575e2edca2208bc357fcec0d538481c8994925097f0dd34dde4e5784e9b221b4\n",
            "  Stored in directory: /root/.cache/pip/wheels/85/ac/25/ffcd87ef8f9b1eec324fdf339359be71f22612459d8c75d89c\n",
            "Successfully built eli5\n",
            "Installing collected packages: jinja2, eli5\n",
            "  Attempting uninstall: jinja2\n",
            "    Found existing installation: Jinja2 2.11.3\n",
            "    Uninstalling Jinja2-2.11.3:\n",
            "      Successfully uninstalled Jinja2-2.11.3\n",
            "\u001b[31mERROR: pip's dependency resolver does not currently take into account all the packages that are installed. This behaviour is the source of the following dependency conflicts.\n",
            "notebook 5.7.16 requires jinja2<=3.0.0, but you have jinja2 3.1.2 which is incompatible.\n",
            "flask 1.1.4 requires Jinja2<3.0,>=2.10.1, but you have jinja2 3.1.2 which is incompatible.\u001b[0m\u001b[31m\n",
            "\u001b[0mSuccessfully installed eli5-0.13.0 jinja2-3.1.2\n"
          ]
        }
      ],
      "source": [
        "pip install eli5"
      ]
    },
    {
      "cell_type": "code",
      "source": [
        "import numpy as np\n",
        "import pandas as pd\n",
        "import seaborn as sns\n",
        "import matplotlib.pyplot as plt\n",
        "from matplotlib import pyplot"
      ],
      "metadata": {
        "id": "ETB4lebn3nkJ"
      },
      "execution_count": 3,
      "outputs": []
    },
    {
      "cell_type": "markdown",
      "source": [
        "# Information about the Dataset\n",
        "\n",
        "\n",
        "> Target Variable/Dependent Variable\n",
        "\n",
        "\n",
        "1.  Happiness Score: A metric measured in 2015 by asking the sampled people the question: \"How would you rate your happiness on a scale of 0 to 10 where 10 is the happiest.\"\n",
        "\n",
        "\n",
        "> Predictor Variables/Independent Variables\n",
        "\n",
        "1.   Country: Name of the country\n",
        "2.   Region: Region of the country belongs to or continent\n",
        "3.   Happiness Rank: Ranking of the countries according to their happiness score\n",
        "4.   Standard Error: the standard error of the happiness score\n",
        "5.   Economy (GDP per Capita): measures the monetary value of the final goods and services. The extent to which GDP contributes to the calculation of the Happiness score.\n",
        "6.   Family: The extent to which Family values contribute to the calculation of the Happiness score.\n",
        "7.   Health (Life Expectancy): The extent to which Health / Life Expectancy contribute to the happiness score calculations.\n",
        "8.   Freedom: Freedom in all terms for people in any country contributing to the calculation of the Happiness score\n",
        "9.   Trust (Government Corruption): Trust/ Government Corruption values of a country effecting Happiness score\n",
        "10.  Generosity: the quality of being kind and generous.\n",
        "11.  Dystopia Residual:  It is the sum of the dystopia happiness score (1.85) ie score of a hypothetical country having rank lower than the lowest ranking country in the report\n",
        "\n",
        "\n",
        "\n",
        "\n",
        "\n",
        "\n",
        "\n",
        "\n",
        "\n",
        "\n",
        "\n",
        "\n",
        "\n",
        "\n",
        "\n",
        "\n",
        "\n",
        "\n"
      ],
      "metadata": {
        "id": "lMcPELW7Fab5"
      }
    },
    {
      "cell_type": "code",
      "source": [
        "Data = pd.read_csv(\"https://raw.githubusercontent.com/Hanagojiv/DataSci/main/2015.csv\")"
      ],
      "metadata": {
        "id": "n_VipDI_3nvD"
      },
      "execution_count": 4,
      "outputs": []
    },
    {
      "cell_type": "code",
      "source": [
        "Data.isnull().sum()"
      ],
      "metadata": {
        "colab": {
          "base_uri": "https://localhost:8080/"
        },
        "id": "W5b8l8cd3nyh",
        "outputId": "55513b92-2bbe-4d91-ce22-7aa898bfa689"
      },
      "execution_count": 5,
      "outputs": [
        {
          "output_type": "execute_result",
          "data": {
            "text/plain": [
              "Country                          0\n",
              "Region                           0\n",
              "Happiness Rank                   0\n",
              "Happiness Score                  0\n",
              "Standard Error                   0\n",
              "Economy (GDP per Capita)         0\n",
              "Family                           0\n",
              "Health (Life Expectancy)         0\n",
              "Freedom                          0\n",
              "Trust (Government Corruption)    0\n",
              "Generosity                       0\n",
              "Dystopia Residual                0\n",
              "dtype: int64"
            ]
          },
          "metadata": {},
          "execution_count": 5
        }
      ]
    },
    {
      "cell_type": "code",
      "source": [
        "#Getting the list of categorical columns\n",
        "categorical_cols = Data.select_dtypes(include=['object']).columns.tolist()"
      ],
      "metadata": {
        "id": "V1mYxFKS3n4q"
      },
      "execution_count": 6,
      "outputs": []
    },
    {
      "cell_type": "markdown",
      "source": [
        "# Q1. What are the data types of our dataset variables?"
      ],
      "metadata": {
        "id": "AoKEOTej4xbo"
      }
    },
    {
      "cell_type": "code",
      "source": [
        "#Getting the list of numerical columns\n",
        "numerical_cols = Data.select_dtypes(exclude=['object']).columns.tolist()"
      ],
      "metadata": {
        "id": "MNJtc4En3n71"
      },
      "execution_count": 7,
      "outputs": []
    },
    {
      "cell_type": "code",
      "source": [
        "#Printing the list of categorical and numerical columns\n",
        "print(\"--------------------------------------------------------\")\n",
        "print(\"                 Categorical Variables                  \")\n",
        "print(\"--------------------------------------------------------\")\n",
        "print(f'Total number of categorical variables in our dataset: {len(categorical_cols)}')\n",
        "for row,col in enumerate(categorical_cols):\n",
        "    print(f'{row+1}. {col}')\n",
        "print(\"\\n\")\n",
        "print(\"--------------------------------------------------------\")\n",
        "print(\"                 Numerical Variables                  \")\n",
        "print(\"--------------------------------------------------------\")\n",
        "print(f'Total number of num variables in our dataset: {len(numerical_cols)}')\n",
        "for row,col in enumerate(numerical_cols):\n",
        "    print(f'{row+1}. {col}')"
      ],
      "metadata": {
        "colab": {
          "base_uri": "https://localhost:8080/"
        },
        "id": "Hl-O-4SA3n_C",
        "outputId": "d039c19b-3634-4e94-fa16-07786118eb20"
      },
      "execution_count": 8,
      "outputs": [
        {
          "output_type": "stream",
          "name": "stdout",
          "text": [
            "--------------------------------------------------------\n",
            "                 Categorical Variables                  \n",
            "--------------------------------------------------------\n",
            "Total number of categorical variables in our dataset: 2\n",
            "1. Country\n",
            "2. Region\n",
            "\n",
            "\n",
            "--------------------------------------------------------\n",
            "                 Numerical Variables                  \n",
            "--------------------------------------------------------\n",
            "Total number of num variables in our dataset: 10\n",
            "1. Happiness Rank\n",
            "2. Happiness Score\n",
            "3. Standard Error\n",
            "4. Economy (GDP per Capita)\n",
            "5. Family\n",
            "6. Health (Life Expectancy)\n",
            "7. Freedom\n",
            "8. Trust (Government Corruption)\n",
            "9. Generosity\n",
            "10. Dystopia Residual\n"
          ]
        }
      ]
    },
    {
      "cell_type": "code",
      "source": [
        "Data.info()"
      ],
      "metadata": {
        "colab": {
          "base_uri": "https://localhost:8080/"
        },
        "id": "1S2s2wFN53Eo",
        "outputId": "c9e99103-e35d-4bc8-9a18-39e5aba56973"
      },
      "execution_count": 9,
      "outputs": [
        {
          "output_type": "stream",
          "name": "stdout",
          "text": [
            "<class 'pandas.core.frame.DataFrame'>\n",
            "RangeIndex: 158 entries, 0 to 157\n",
            "Data columns (total 12 columns):\n",
            " #   Column                         Non-Null Count  Dtype  \n",
            "---  ------                         --------------  -----  \n",
            " 0   Country                        158 non-null    object \n",
            " 1   Region                         158 non-null    object \n",
            " 2   Happiness Rank                 158 non-null    int64  \n",
            " 3   Happiness Score                158 non-null    float64\n",
            " 4   Standard Error                 158 non-null    float64\n",
            " 5   Economy (GDP per Capita)       158 non-null    float64\n",
            " 6   Family                         158 non-null    float64\n",
            " 7   Health (Life Expectancy)       158 non-null    float64\n",
            " 8   Freedom                        158 non-null    float64\n",
            " 9   Trust (Government Corruption)  158 non-null    float64\n",
            " 10  Generosity                     158 non-null    float64\n",
            " 11  Dystopia Residual              158 non-null    float64\n",
            "dtypes: float64(9), int64(1), object(2)\n",
            "memory usage: 14.9+ KB\n"
          ]
        }
      ]
    },
    {
      "cell_type": "markdown",
      "source": [
        "# Q2. Are there missing values? Which independent variables have missing data? How much?"
      ],
      "metadata": {
        "id": "sumVBqGo6Vd1"
      }
    },
    {
      "cell_type": "code",
      "source": [
        "#Checking missing values in our data\n",
        "Data.isnull().sum()"
      ],
      "metadata": {
        "colab": {
          "base_uri": "https://localhost:8080/"
        },
        "id": "4uw_cmfT3oCT",
        "outputId": "bc0b7371-83ef-4130-ed06-3c6eeac50148"
      },
      "execution_count": 10,
      "outputs": [
        {
          "output_type": "execute_result",
          "data": {
            "text/plain": [
              "Country                          0\n",
              "Region                           0\n",
              "Happiness Rank                   0\n",
              "Happiness Score                  0\n",
              "Standard Error                   0\n",
              "Economy (GDP per Capita)         0\n",
              "Family                           0\n",
              "Health (Life Expectancy)         0\n",
              "Freedom                          0\n",
              "Trust (Government Corruption)    0\n",
              "Generosity                       0\n",
              "Dystopia Residual                0\n",
              "dtype: int64"
            ]
          },
          "metadata": {},
          "execution_count": 10
        }
      ]
    },
    {
      "cell_type": "markdown",
      "source": [
        "# Observations\n",
        "\n",
        "We have 0% missing values both in our independent variables as well as dependent variable"
      ],
      "metadata": {
        "id": "Napsl8AZ6YO0"
      }
    },
    {
      "cell_type": "markdown",
      "source": [
        "# Q3. What are the likely distributions of the numeric variables?"
      ],
      "metadata": {
        "id": "Ca9RhnJn69k3"
      }
    },
    {
      "cell_type": "markdown",
      "source": [
        "**1. Happiness Rank**"
      ],
      "metadata": {
        "id": "nEhVJNbX7NT5"
      }
    },
    {
      "cell_type": "code",
      "source": [
        "plt.figure(figsize=(15,7))\n",
        "sns.distplot(Data['Happiness Rank'], bins=10, color = \"green\")\n",
        "print(\"The mean of Happiness Rank is \",round(Data['Happiness Rank'].mean(),2))\n",
        "print(\"The median of Happiness Rank is \",Data['Happiness Rank'].median())\n",
        "print(\"The Mode of Happiness Rank is \",Data['Happiness Rank'].mode())\n",
        "plt.xlabel(\"Happiness Rank\", size=14)\n",
        "plt.ylabel(\"Density\", size=14)\n",
        "plt.title('Distribution curve for Happiness Rank', size=20)"
      ],
      "metadata": {
        "colab": {
          "base_uri": "https://localhost:8080/",
          "height": 606
        },
        "id": "xlxWMtzw3oFw",
        "outputId": "10bde341-0abe-4b6f-cedd-0aeaf79a0ae2"
      },
      "execution_count": 11,
      "outputs": [
        {
          "output_type": "stream",
          "name": "stderr",
          "text": [
            "/usr/local/lib/python3.8/dist-packages/seaborn/distributions.py:2619: FutureWarning: `distplot` is a deprecated function and will be removed in a future version. Please adapt your code to use either `displot` (a figure-level function with similar flexibility) or `histplot` (an axes-level function for histograms).\n",
            "  warnings.warn(msg, FutureWarning)\n"
          ]
        },
        {
          "output_type": "stream",
          "name": "stdout",
          "text": [
            "The mean of Happiness Rank is  79.49\n",
            "The median of Happiness Rank is  79.5\n",
            "The Mode of Happiness Rank is  0    82\n",
            "dtype: int64\n"
          ]
        },
        {
          "output_type": "execute_result",
          "data": {
            "text/plain": [
              "Text(0.5, 1.0, 'Distribution curve for Happiness Rank')"
            ]
          },
          "metadata": {},
          "execution_count": 11
        },
        {
          "output_type": "display_data",
          "data": {
            "text/plain": [
              "<Figure size 1080x504 with 1 Axes>"
            ],
            "image/png": "[encoded data removed]"
          },
          "metadata": {
            "needs_background": "light"
          }
        }
      ]
    },
    {
      "cell_type": "markdown",
      "source": [
        "**2. Happiness Score**"
      ],
      "metadata": {
        "id": "q8uLdEWb7TI3"
      }
    },
    {
      "cell_type": "code",
      "source": [
        "plt.figure(figsize=(15,7))\n",
        "sns.distplot(Data['Happiness Score'], bins=10, color = \"green\")\n",
        "print(\"The mean of Happiness Score is \",round(Data['Happiness Score'].mean(),2))\n",
        "print(\"The median of Happiness Score is \",Data['Happiness Score'].median())\n",
        "print(\"The Mode of Happiness Score is \",Data['Happiness Score'].mode())\n",
        "plt.xlabel(\"Happiness Score\", size=14)\n",
        "plt.ylabel(\"Density\", size=14)\n",
        "plt.title('Distribution curve for Happiness Score', size=20)"
      ],
      "metadata": {
        "colab": {
          "base_uri": "https://localhost:8080/",
          "height": 606
        },
        "id": "ou2oXDJv4AA6",
        "outputId": "231d6695-6cd2-4bf0-ef78-5ee1745f5fcb"
      },
      "execution_count": 12,
      "outputs": [
        {
          "output_type": "stream",
          "name": "stdout",
          "text": [
            "The mean of Happiness Score is  5.38\n",
            "The median of Happiness Score is  5.2325\n",
            "The Mode of Happiness Score is  0    5.192\n",
            "dtype: float64\n"
          ]
        },
        {
          "output_type": "stream",
          "name": "stderr",
          "text": [
            "/usr/local/lib/python3.8/dist-packages/seaborn/distributions.py:2619: FutureWarning: `distplot` is a deprecated function and will be removed in a future version. Please adapt your code to use either `displot` (a figure-level function with similar flexibility) or `histplot` (an axes-level function for histograms).\n",
            "  warnings.warn(msg, FutureWarning)\n"
          ]
        },
        {
          "output_type": "execute_result",
          "data": {
            "text/plain": [
              "Text(0.5, 1.0, 'Distribution curve for Happiness Score')"
            ]
          },
          "metadata": {},
          "execution_count": 12
        },
        {
          "output_type": "display_data",
          "data": {
            "text/plain": [
              "<Figure size 1080x504 with 1 Axes>"
            ],
            "image/png": "[encoded data removed]"
          },
          "metadata": {
            "needs_background": "light"
          }
        }
      ]
    },
    {
      "cell_type": "markdown",
      "source": [
        "**3. Standard Error**"
      ],
      "metadata": {
        "id": "YtXGrhcB7XlL"
      }
    },
    {
      "cell_type": "code",
      "source": [
        "plt.figure(figsize=(15,7))\n",
        "sns.distplot(Data['Standard Error'], bins=10, color = \"green\")\n",
        "print(\"The mean of Standard Error is \",round(Data['Standard Error'].mean(),2))\n",
        "print(\"The median of Standard Error is \",Data['Standard Error'].median())\n",
        "plt.xlabel(\"Standard Error\", size=14)\n",
        "plt.ylabel(\"Density\", size=14)\n",
        "plt.title('Distribution curve for Standard Error', size=20)"
      ],
      "metadata": {
        "colab": {
          "base_uri": "https://localhost:8080/",
          "height": 572
        },
        "id": "AUYW2O1y4AeE",
        "outputId": "fe551bc5-f537-4cb5-cce2-dda74ba0b988"
      },
      "execution_count": 13,
      "outputs": [
        {
          "output_type": "stream",
          "name": "stderr",
          "text": [
            "/usr/local/lib/python3.8/dist-packages/seaborn/distributions.py:2619: FutureWarning: `distplot` is a deprecated function and will be removed in a future version. Please adapt your code to use either `displot` (a figure-level function with similar flexibility) or `histplot` (an axes-level function for histograms).\n",
            "  warnings.warn(msg, FutureWarning)\n"
          ]
        },
        {
          "output_type": "stream",
          "name": "stdout",
          "text": [
            "The mean of Standard Error is  0.05\n",
            "The median of Standard Error is  0.04394\n"
          ]
        },
        {
          "output_type": "execute_result",
          "data": {
            "text/plain": [
              "Text(0.5, 1.0, 'Distribution curve for Standard Error')"
            ]
          },
          "metadata": {},
          "execution_count": 13
        },
        {
          "output_type": "display_data",
          "data": {
            "text/plain": [
              "<Figure size 1080x504 with 1 Axes>"
            ],
            "image/png": "[encoded data removed]"
          },
          "metadata": {
            "needs_background": "light"
          }
        }
      ]
    },
    {
      "cell_type": "markdown",
      "source": [
        "**4. Economy (GDP per Capita)**"
      ],
      "metadata": {
        "id": "TjegcnZ37dXk"
      }
    },
    {
      "cell_type": "code",
      "source": [
        "plt.figure(figsize=(15,7))\n",
        "sns.distplot(Data['Economy (GDP per Capita)'], bins=10, color = \"green\")\n",
        "print(\"The mean of Economy (GDP per Capita) is \",round(Data['Economy (GDP per Capita)'].mean(),2))\n",
        "print(\"The median of Economy (GDP per Capita) is \",Data['Economy (GDP per Capita)'].median())\n",
        "plt.xlabel(\"Economy (GDP per Capita)\", size=14)\n",
        "plt.ylabel(\"Density\", size=14)\n",
        "plt.title('Distribution curve for Economy (GDP per Capita)', size=20)"
      ],
      "metadata": {
        "colab": {
          "base_uri": "https://localhost:8080/",
          "height": 572
        },
        "id": "jYL3Izcn4Akq",
        "outputId": "68eae3c3-1139-47e9-8c00-d77a8989241f"
      },
      "execution_count": 14,
      "outputs": [
        {
          "output_type": "stream",
          "name": "stderr",
          "text": [
            "/usr/local/lib/python3.8/dist-packages/seaborn/distributions.py:2619: FutureWarning: `distplot` is a deprecated function and will be removed in a future version. Please adapt your code to use either `displot` (a figure-level function with similar flexibility) or `histplot` (an axes-level function for histograms).\n",
            "  warnings.warn(msg, FutureWarning)\n"
          ]
        },
        {
          "output_type": "stream",
          "name": "stdout",
          "text": [
            "The mean of Economy (GDP per Capita) is  0.85\n",
            "The median of Economy (GDP per Capita) is  0.910245\n"
          ]
        },
        {
          "output_type": "execute_result",
          "data": {
            "text/plain": [
              "Text(0.5, 1.0, 'Distribution curve for Economy (GDP per Capita)')"
            ]
          },
          "metadata": {},
          "execution_count": 14
        },
        {
          "output_type": "display_data",
          "data": {
            "text/plain": [
              "<Figure size 1080x504 with 1 Axes>"
            ],
            "image/png": "[encoded data removed]"
          },
          "metadata": {
            "needs_background": "light"
          }
        }
      ]
    },
    {
      "cell_type": "markdown",
      "source": [
        "**5. Family**"
      ],
      "metadata": {
        "id": "tN9Ma49p7nGZ"
      }
    },
    {
      "cell_type": "code",
      "source": [
        "plt.figure(figsize=(15,7))\n",
        "sns.distplot(Data['Family'], bins=10, color = \"green\")\n",
        "print(\"The mean of Family is \",round(Data['Family'].mean(),2))\n",
        "print(\"The median of Family is \",Data['Family'].median())\n",
        "plt.xlabel(\"Family\", size=14)\n",
        "plt.ylabel(\"Density\", size=14)\n",
        "plt.title('Distribution curve for Family', size=20)"
      ],
      "metadata": {
        "colab": {
          "base_uri": "https://localhost:8080/",
          "height": 572
        },
        "id": "0DucWU-D4HdA",
        "outputId": "73d6d258-e8d7-49ee-8c77-4f150dd5afe5"
      },
      "execution_count": 15,
      "outputs": [
        {
          "output_type": "stream",
          "name": "stderr",
          "text": [
            "/usr/local/lib/python3.8/dist-packages/seaborn/distributions.py:2619: FutureWarning: `distplot` is a deprecated function and will be removed in a future version. Please adapt your code to use either `displot` (a figure-level function with similar flexibility) or `histplot` (an axes-level function for histograms).\n",
            "  warnings.warn(msg, FutureWarning)\n"
          ]
        },
        {
          "output_type": "stream",
          "name": "stdout",
          "text": [
            "The mean of Family is  0.99\n",
            "The median of Family is  1.02951\n"
          ]
        },
        {
          "output_type": "execute_result",
          "data": {
            "text/plain": [
              "Text(0.5, 1.0, 'Distribution curve for Family')"
            ]
          },
          "metadata": {},
          "execution_count": 15
        },
        {
          "output_type": "display_data",
          "data": {
            "text/plain": [
              "<Figure size 1080x504 with 1 Axes>"
            ],
            "image/png": "[encoded data removed]"
          },
          "metadata": {
            "needs_background": "light"
          }
        }
      ]
    },
    {
      "cell_type": "markdown",
      "source": [
        "**6. Health (Life Expectancy)**"
      ],
      "metadata": {
        "id": "huSgVJIP7yBU"
      }
    },
    {
      "cell_type": "code",
      "source": [
        "plt.figure(figsize=(15,7))\n",
        "sns.distplot(Data['Health (Life Expectancy)'], bins=10, color = \"green\")\n",
        "print(\"The mean of Health (Life Expectancy) is \",round(Data['Health (Life Expectancy)'].mean(),2))\n",
        "print(\"The median of Health (Life Expectancy) is \",Data['Health (Life Expectancy)'].median())\n",
        "print(\"The Mode of Health (Life Expectancy) is \",Data['Health (Life Expectancy)'].mode())\n",
        "plt.xlabel(\"Health (Life Expectancy)\", size=14)\n",
        "plt.ylabel(\"Density\", size=14)\n",
        "plt.title('Distribution curve for Health (Life Expectancy)', size=20)"
      ],
      "metadata": {
        "colab": {
          "base_uri": "https://localhost:8080/",
          "height": 606
        },
        "id": "QDJJ67M_4HgK",
        "outputId": "4fe066c0-4bc3-46d3-e7f8-2bbe2875e3a7"
      },
      "execution_count": 16,
      "outputs": [
        {
          "output_type": "stream",
          "name": "stdout",
          "text": [
            "The mean of Health (Life Expectancy) is  0.63\n",
            "The median of Health (Life Expectancy) is  0.6967049999999999\n",
            "The Mode of Health (Life Expectancy) is  0    0.92356\n",
            "dtype: float64\n"
          ]
        },
        {
          "output_type": "stream",
          "name": "stderr",
          "text": [
            "/usr/local/lib/python3.8/dist-packages/seaborn/distributions.py:2619: FutureWarning: `distplot` is a deprecated function and will be removed in a future version. Please adapt your code to use either `displot` (a figure-level function with similar flexibility) or `histplot` (an axes-level function for histograms).\n",
            "  warnings.warn(msg, FutureWarning)\n"
          ]
        },
        {
          "output_type": "execute_result",
          "data": {
            "text/plain": [
              "Text(0.5, 1.0, 'Distribution curve for Health (Life Expectancy)')"
            ]
          },
          "metadata": {},
          "execution_count": 16
        },
        {
          "output_type": "display_data",
          "data": {
            "text/plain": [
              "<Figure size 1080x504 with 1 Axes>"
            ],
            "image/png": "[encoded data removed]"
          },
          "metadata": {
            "needs_background": "light"
          }
        }
      ]
    },
    {
      "cell_type": "markdown",
      "source": [
        "**7. Freedom**"
      ],
      "metadata": {
        "id": "LFUubgqm73Ke"
      }
    },
    {
      "cell_type": "code",
      "source": [
        "plt.figure(figsize=(15,7))\n",
        "sns.distplot(Data['Freedom'], bins=10, color = \"green\")\n",
        "print(\"The mean of  Freedom is \",round(Data['Freedom'].mean(),2))\n",
        "print(\"The median of Freedom is \",Data['Freedom'].median())\n",
        "plt.xlabel(\"Freedom\", size=14)\n",
        "plt.ylabel(\"Density\", size=14)\n",
        "plt.title('Distribution curve for Freedom', size=20)"
      ],
      "metadata": {
        "colab": {
          "base_uri": "https://localhost:8080/",
          "height": 572
        },
        "id": "MjxlSWor4Hjn",
        "outputId": "52b09807-5607-4df8-b161-504a86032449"
      },
      "execution_count": 17,
      "outputs": [
        {
          "output_type": "stream",
          "name": "stderr",
          "text": [
            "/usr/local/lib/python3.8/dist-packages/seaborn/distributions.py:2619: FutureWarning: `distplot` is a deprecated function and will be removed in a future version. Please adapt your code to use either `displot` (a figure-level function with similar flexibility) or `histplot` (an axes-level function for histograms).\n",
            "  warnings.warn(msg, FutureWarning)\n"
          ]
        },
        {
          "output_type": "stream",
          "name": "stdout",
          "text": [
            "The mean of  Freedom is  0.43\n",
            "The median of Freedom is  0.435515\n"
          ]
        },
        {
          "output_type": "execute_result",
          "data": {
            "text/plain": [
              "Text(0.5, 1.0, 'Distribution curve for Freedom')"
            ]
          },
          "metadata": {},
          "execution_count": 17
        },
        {
          "output_type": "display_data",
          "data": {
            "text/plain": [
              "<Figure size 1080x504 with 1 Axes>"
            ],
            "image/png": "[encoded data removed]"
          },
          "metadata": {
            "needs_background": "light"
          }
        }
      ]
    },
    {
      "cell_type": "markdown",
      "source": [
        "**8. Trust (Government Corruption)**"
      ],
      "metadata": {
        "id": "RJ84-WgS76q_"
      }
    },
    {
      "cell_type": "code",
      "source": [
        "plt.figure(figsize=(15,7))\n",
        "sns.distplot(Data['Trust (Government Corruption)'], bins=10, color = \"green\")\n",
        "print(\"The mean of Trust (Government Corruption) is \",round(Data['Trust (Government Corruption)'].mean(),2))\n",
        "print(\"The median of Trust (Government Corruption) is \",Data['Trust (Government Corruption)'].median())\n",
        "print(\"The Mode of Trust (Government Corruption) is \",Data['Trust (Government Corruption)'].mode())\n",
        "plt.xlabel(\"Trust (Government Corruption)\", size=14)\n",
        "plt.ylabel(\"Density\", size=14)\n",
        "plt.title('Distribution curve for Trust (Government Corruption)', size=20)"
      ],
      "metadata": {
        "colab": {
          "base_uri": "https://localhost:8080/",
          "height": 606
        },
        "id": "vRHkjNSj4Hm2",
        "outputId": "86cdebd3-781c-4181-b5c2-684b402fc576"
      },
      "execution_count": 18,
      "outputs": [
        {
          "output_type": "stream",
          "name": "stdout",
          "text": [
            "The mean of Trust (Government Corruption) is  0.14\n",
            "The median of Trust (Government Corruption) is  0.10722000000000001\n",
            "The Mode of Trust (Government Corruption) is  0    0.32524\n",
            "dtype: float64\n"
          ]
        },
        {
          "output_type": "stream",
          "name": "stderr",
          "text": [
            "/usr/local/lib/python3.8/dist-packages/seaborn/distributions.py:2619: FutureWarning: `distplot` is a deprecated function and will be removed in a future version. Please adapt your code to use either `displot` (a figure-level function with similar flexibility) or `histplot` (an axes-level function for histograms).\n",
            "  warnings.warn(msg, FutureWarning)\n"
          ]
        },
        {
          "output_type": "execute_result",
          "data": {
            "text/plain": [
              "Text(0.5, 1.0, 'Distribution curve for Trust (Government Corruption)')"
            ]
          },
          "metadata": {},
          "execution_count": 18
        },
        {
          "output_type": "display_data",
          "data": {
            "text/plain": [
              "<Figure size 1080x504 with 1 Axes>"
            ],
            "image/png": "[encoded data removed]"
          },
          "metadata": {
            "needs_background": "light"
          }
        }
      ]
    },
    {
      "cell_type": "markdown",
      "source": [
        "**9. Generosity**"
      ],
      "metadata": {
        "id": "0wHm9W9Y8A1C"
      }
    },
    {
      "cell_type": "code",
      "source": [
        "plt.figure(figsize=(15,7))\n",
        "sns.distplot(Data['Generosity'], bins=10, color = \"green\")\n",
        "print(\"The mean of Generosity is \",round(Data['Generosity'].mean(),2))\n",
        "print(\"The median of Generosity is \",Data['Generosity'].median())\n",
        "plt.xlabel(\"Generosity\", size=14)\n",
        "plt.ylabel(\"Density\", size=14)\n",
        "plt.title('Distribution curve for Generosity', size=20)"
      ],
      "metadata": {
        "colab": {
          "base_uri": "https://localhost:8080/",
          "height": 572
        },
        "id": "93c4uEnI4Ank",
        "outputId": "2bdfb9a9-5a25-42b0-fa5e-9aefe74af9b6"
      },
      "execution_count": 19,
      "outputs": [
        {
          "output_type": "stream",
          "name": "stdout",
          "text": [
            "The mean of Generosity is  0.24\n",
            "The median of Generosity is  0.21613\n"
          ]
        },
        {
          "output_type": "stream",
          "name": "stderr",
          "text": [
            "/usr/local/lib/python3.8/dist-packages/seaborn/distributions.py:2619: FutureWarning: `distplot` is a deprecated function and will be removed in a future version. Please adapt your code to use either `displot` (a figure-level function with similar flexibility) or `histplot` (an axes-level function for histograms).\n",
            "  warnings.warn(msg, FutureWarning)\n"
          ]
        },
        {
          "output_type": "execute_result",
          "data": {
            "text/plain": [
              "Text(0.5, 1.0, 'Distribution curve for Generosity')"
            ]
          },
          "metadata": {},
          "execution_count": 19
        },
        {
          "output_type": "display_data",
          "data": {
            "text/plain": [
              "<Figure size 1080x504 with 1 Axes>"
            ],
            "image/png": "[encoded data removed]"
          },
          "metadata": {
            "needs_background": "light"
          }
        }
      ]
    },
    {
      "cell_type": "markdown",
      "source": [
        "**10. Dystopia Residual**"
      ],
      "metadata": {
        "id": "LvW_Vh558D1_"
      }
    },
    {
      "cell_type": "code",
      "source": [
        "plt.figure(figsize=(15,7))\n",
        "sns.distplot(Data['Dystopia Residual'], bins=10, color = \"#00b3b3\")\n",
        "print(\"The mean of Dystopia Residual is \",round(Data['Dystopia Residual'].mean(),2))\n",
        "print(\"The median of Dystopia Residual is \",Data['Dystopia Residual'].median())\n",
        "plt.xlabel(\"Dystopia Residual\", size=14)\n",
        "plt.ylabel(\"Density\", size=14)\n",
        "plt.title('Distribution curve for Dystopia Residual', size=20)"
      ],
      "metadata": {
        "colab": {
          "base_uri": "https://localhost:8080/",
          "height": 572
        },
        "id": "ON8_JCjq4Arb",
        "outputId": "e2dfc230-ec68-473a-8975-3f1417c049ee"
      },
      "execution_count": 20,
      "outputs": [
        {
          "output_type": "stream",
          "name": "stdout",
          "text": [
            "The mean of Dystopia Residual is  2.1\n",
            "The median of Dystopia Residual is  2.095415\n"
          ]
        },
        {
          "output_type": "stream",
          "name": "stderr",
          "text": [
            "/usr/local/lib/python3.8/dist-packages/seaborn/distributions.py:2619: FutureWarning: `distplot` is a deprecated function and will be removed in a future version. Please adapt your code to use either `displot` (a figure-level function with similar flexibility) or `histplot` (an axes-level function for histograms).\n",
            "  warnings.warn(msg, FutureWarning)\n"
          ]
        },
        {
          "output_type": "execute_result",
          "data": {
            "text/plain": [
              "Text(0.5, 1.0, 'Distribution curve for Dystopia Residual')"
            ]
          },
          "metadata": {},
          "execution_count": 20
        },
        {
          "output_type": "display_data",
          "data": {
            "text/plain": [
              "<Figure size 1080x504 with 1 Axes>"
            ],
            "image/png": "[encoded data removed]"
          },
          "metadata": {
            "needs_background": "light"
          }
        }
      ]
    },
    {
      "cell_type": "markdown",
      "source": [
        "Splitting the data into 2 data frames \n",
        "1. Predictor Variables\n",
        "2. Target Variable - Happiness Score"
      ],
      "metadata": {
        "id": "OfpDuA2C8ICT"
      }
    },
    {
      "cell_type": "code",
      "source": [
        "y = Data['Happiness Score']\n",
        "x = Data.drop('Happiness Score', axis = 1)\n",
        "data_total = Data"
      ],
      "metadata": {
        "id": "ERu075Sr4dcn"
      },
      "execution_count": 21,
      "outputs": []
    },
    {
      "cell_type": "code",
      "source": [
        "x=x.drop('Happiness Rank', axis = 1)"
      ],
      "metadata": {
        "id": "roS-UuACzxLe"
      },
      "execution_count": 22,
      "outputs": []
    },
    {
      "cell_type": "code",
      "source": [
        "#Checking the range of the predictor variables\n",
        "plt.figure(figsize=(20,7))\n",
        "sns.boxplot(data=x, palette=\"Set3\")"
      ],
      "metadata": {
        "colab": {
          "base_uri": "https://localhost:8080/",
          "height": 445
        },
        "id": "tKQBrXhW4dfl",
        "outputId": "c0d99fbd-0b9f-4e3e-938a-5ebf379028b5"
      },
      "execution_count": 23,
      "outputs": [
        {
          "output_type": "execute_result",
          "data": {
            "text/plain": [
              "<matplotlib.axes._subplots.AxesSubplot at 0x7f5faf904b80>"
            ]
          },
          "metadata": {},
          "execution_count": 23
        },
        {
          "output_type": "display_data",
          "data": {
            "text/plain": [
              "<Figure size 1440x504 with 1 Axes>"
            ],
            "image/png": "[encoded data removed]"
          },
          "metadata": {
            "needs_background": "light"
          }
        }
      ]
    },
    {
      "cell_type": "code",
      "source": [
        "df = pd.DataFrame(x)"
      ],
      "metadata": {
        "id": "in4d0VPZ4diu"
      },
      "execution_count": 24,
      "outputs": []
    },
    {
      "cell_type": "code",
      "source": [
        "df.head()"
      ],
      "metadata": {
        "colab": {
          "base_uri": "https://localhost:8080/",
          "height": 333
        },
        "id": "JzK7kTzW4dla",
        "outputId": "9d5ab44b-57cd-4984-a823-1e4329ceb26c"
      },
      "execution_count": 25,
      "outputs": [
        {
          "output_type": "execute_result",
          "data": {
            "text/plain": [
              "       Country          Region  Standard Error  Economy (GDP per Capita)  \\\n",
              "0  Switzerland  Western Europe         0.03411                   1.39651   \n",
              "1      Iceland  Western Europe         0.04884                   1.30232   \n",
              "2      Denmark  Western Europe         0.03328                   1.32548   \n",
              "3       Norway  Western Europe         0.03880                   1.45900   \n",
              "4       Canada   North America         0.03553                   1.32629   \n",
              "\n",
              "    Family  Health (Life Expectancy)  Freedom  Trust (Government Corruption)  \\\n",
              "0  1.34951                   0.94143  0.66557                        0.41978   \n",
              "1  1.40223                   0.94784  0.62877                        0.14145   \n",
              "2  1.36058                   0.87464  0.64938                        0.48357   \n",
              "3  1.33095                   0.88521  0.66973                        0.36503   \n",
              "4  1.32261                   0.90563  0.63297                        0.32957   \n",
              "\n",
              "   Generosity  Dystopia Residual  \n",
              "0     0.29678            2.51738  \n",
              "1     0.43630            2.70201  \n",
              "2     0.34139            2.49204  \n",
              "3     0.34699            2.46531  \n",
              "4     0.45811            2.45176  "
            ],
            "text/html": [
              "\n",
              "  <div id=\"df-1c841bd9-186e-4457-8dc9-8574a831e2cd\">\n",
              "    <div class=\"colab-df-container\">\n",
              "      <div>\n",
              "<style scoped>\n",
              "    .dataframe tbody tr th:only-of-type {\n",
              "        vertical-align: middle;\n",
              "    }\n",
              "\n",
              "    .dataframe tbody tr th {\n",
              "        vertical-align: top;\n",
              "    }\n",
              "\n",
              "    .dataframe thead th {\n",
              "        text-align: right;\n",
              "    }\n",
              "</style>\n",
              "<table border=\"1\" class=\"dataframe\">\n",
              "  <thead>\n",
              "    <tr style=\"text-align: right;\">\n",
              "      <th></th>\n",
              "      <th>Country</th>\n",
              "      <th>Region</th>\n",
              "      <th>Standard Error</th>\n",
              "      <th>Economy (GDP per Capita)</th>\n",
              "      <th>Family</th>\n",
              "      <th>Health (Life Expectancy)</th>\n",
              "      <th>Freedom</th>\n",
              "      <th>Trust (Government Corruption)</th>\n",
              "      <th>Generosity</th>\n",
              "      <th>Dystopia Residual</th>\n",
              "    </tr>\n",
              "  </thead>\n",
              "  <tbody>\n",
              "    <tr>\n",
              "      <th>0</th>\n",
              "      <td>Switzerland</td>\n",
              "      <td>Western Europe</td>\n",
              "      <td>0.03411</td>\n",
              "      <td>1.39651</td>\n",
              "      <td>1.34951</td>\n",
              "      <td>0.94143</td>\n",
              "      <td>0.66557</td>\n",
              "      <td>0.41978</td>\n",
              "      <td>0.29678</td>\n",
              "      <td>2.51738</td>\n",
              "    </tr>\n",
              "    <tr>\n",
              "      <th>1</th>\n",
              "      <td>Iceland</td>\n",
              "      <td>Western Europe</td>\n",
              "      <td>0.04884</td>\n",
              "      <td>1.30232</td>\n",
              "      <td>1.40223</td>\n",
              "      <td>0.94784</td>\n",
              "      <td>0.62877</td>\n",
              "      <td>0.14145</td>\n",
              "      <td>0.43630</td>\n",
              "      <td>2.70201</td>\n",
              "    </tr>\n",
              "    <tr>\n",
              "      <th>2</th>\n",
              "      <td>Denmark</td>\n",
              "      <td>Western Europe</td>\n",
              "      <td>0.03328</td>\n",
              "      <td>1.32548</td>\n",
              "      <td>1.36058</td>\n",
              "      <td>0.87464</td>\n",
              "      <td>0.64938</td>\n",
              "      <td>0.48357</td>\n",
              "      <td>0.34139</td>\n",
              "      <td>2.49204</td>\n",
              "    </tr>\n",
              "    <tr>\n",
              "      <th>3</th>\n",
              "      <td>Norway</td>\n",
              "      <td>Western Europe</td>\n",
              "      <td>0.03880</td>\n",
              "      <td>1.45900</td>\n",
              "      <td>1.33095</td>\n",
              "      <td>0.88521</td>\n",
              "      <td>0.66973</td>\n",
              "      <td>0.36503</td>\n",
              "      <td>0.34699</td>\n",
              "      <td>2.46531</td>\n",
              "    </tr>\n",
              "    <tr>\n",
              "      <th>4</th>\n",
              "      <td>Canada</td>\n",
              "      <td>North America</td>\n",
              "      <td>0.03553</td>\n",
              "      <td>1.32629</td>\n",
              "      <td>1.32261</td>\n",
              "      <td>0.90563</td>\n",
              "      <td>0.63297</td>\n",
              "      <td>0.32957</td>\n",
              "      <td>0.45811</td>\n",
              "      <td>2.45176</td>\n",
              "    </tr>\n",
              "  </tbody>\n",
              "</table>\n",
              "</div>\n",
              "      <button class=\"colab-df-convert\" onclick=\"convertToInteractive('df-1c841bd9-186e-4457-8dc9-8574a831e2cd')\"\n",
              "              title=\"Convert this dataframe to an interactive table.\"\n",
              "              style=\"display:none;\">\n",
              "        \n",
              "  <svg xmlns=\"http://www.w3.org/2000/svg\" height=\"24px\"viewBox=\"0 0 24 24\"\n",
              "       width=\"24px\">\n",
              "    <path d=\"M0 0h24v24H0V0z\" fill=\"none\"/>\n",
              "    <path d=\"M18.56 5.44l.94 2.06.94-2.06 2.06-.94-2.06-.94-.94-2.06-.94 2.06-2.06.94zm-11 1L8.5 8.5l.94-2.06 2.06-.94-2.06-.94L8.5 2.5l-.94 2.06-2.06.94zm10 10l.94 2.06.94-2.06 2.06-.94-2.06-.94-.94-2.06-.94 2.06-2.06.94z\"/><path d=\"M17.41 7.96l-1.37-1.37c-.4-.4-.92-.59-1.43-.59-.52 0-1.04.2-1.43.59L10.3 9.45l-7.72 7.72c-.78.78-.78 2.05 0 2.83L4 21.41c.39.39.9.59 1.41.59.51 0 1.02-.2 1.41-.59l7.78-7.78 2.81-2.81c.8-.78.8-2.07 0-2.86zM5.41 20L4 18.59l7.72-7.72 1.47 1.35L5.41 20z\"/>\n",
              "  </svg>\n",
              "      </button>\n",
              "      \n",
              "  <style>\n",
              "    .colab-df-container {\n",
              "      display:flex;\n",
              "      flex-wrap:wrap;\n",
              "      gap: 12px;\n",
              "    }\n",
              "\n",
              "    .colab-df-convert {\n",
              "      background-color: #E8F0FE;\n",
              "      border: none;\n",
              "      border-radius: 50%;\n",
              "      cursor: pointer;\n",
              "      display: none;\n",
              "      fill: #1967D2;\n",
              "      height: 32px;\n",
              "      padding: 0 0 0 0;\n",
              "      width: 32px;\n",
              "    }\n",
              "\n",
              "    .colab-df-convert:hover {\n",
              "      background-color: #E2EBFA;\n",
              "      box-shadow: 0px 1px 2px rgba(60, 64, 67, 0.3), 0px 1px 3px 1px rgba(60, 64, 67, 0.15);\n",
              "      fill: #174EA6;\n",
              "    }\n",
              "\n",
              "    [theme=dark] .colab-df-convert {\n",
              "      background-color: #3B4455;\n",
              "      fill: #D2E3FC;\n",
              "    }\n",
              "\n",
              "    [theme=dark] .colab-df-convert:hover {\n",
              "      background-color: #434B5C;\n",
              "      box-shadow: 0px 1px 3px 1px rgba(0, 0, 0, 0.15);\n",
              "      filter: drop-shadow(0px 1px 2px rgba(0, 0, 0, 0.3));\n",
              "      fill: #FFFFFF;\n",
              "    }\n",
              "  </style>\n",
              "\n",
              "      <script>\n",
              "        const buttonEl =\n",
              "          document.querySelector('#df-1c841bd9-186e-4457-8dc9-8574a831e2cd button.colab-df-convert');\n",
              "        buttonEl.style.display =\n",
              "          google.colab.kernel.accessAllowed ? 'block' : 'none';\n",
              "\n",
              "        async function convertToInteractive(key) {\n",
              "          const element = document.querySelector('#df-1c841bd9-186e-4457-8dc9-8574a831e2cd');\n",
              "          const dataTable =\n",
              "            await google.colab.kernel.invokeFunction('convertToInteractive',\n",
              "                                                     [key], {});\n",
              "          if (!dataTable) return;\n",
              "\n",
              "          const docLinkHtml = 'Like what you see? Visit the ' +\n",
              "            '<a target=\"_blank\" href=https://colab.research.google.com/notebooks/data_table.ipynb>data table notebook</a>'\n",
              "            + ' to learn more about interactive tables.';\n",
              "          element.innerHTML = '';\n",
              "          dataTable['output_type'] = 'display_data';\n",
              "          await google.colab.output.renderOutput(dataTable, element);\n",
              "          const docLink = document.createElement('div');\n",
              "          docLink.innerHTML = docLinkHtml;\n",
              "          element.appendChild(docLink);\n",
              "        }\n",
              "      </script>\n",
              "    </div>\n",
              "  </div>\n",
              "  "
            ]
          },
          "metadata": {},
          "execution_count": 25
        }
      ]
    },
    {
      "cell_type": "code",
      "source": [
        "xdata= df.drop(df.loc[:, 'Country':'Region'].columns, axis=1)"
      ],
      "metadata": {
        "id": "EDY_9hty5G7W"
      },
      "execution_count": 26,
      "outputs": []
    },
    {
      "cell_type": "code",
      "source": [
        "x =xdata"
      ],
      "metadata": {
        "id": "_CE8XatF5G-d"
      },
      "execution_count": 27,
      "outputs": []
    },
    {
      "cell_type": "code",
      "source": [
        "x.head()"
      ],
      "metadata": {
        "colab": {
          "base_uri": "https://localhost:8080/",
          "height": 204
        },
        "id": "afzlLX905HB7",
        "outputId": "48809a5a-a70d-4c6f-b4d1-4ff3ce41c54d"
      },
      "execution_count": 100,
      "outputs": [
        {
          "output_type": "execute_result",
          "data": {
            "text/plain": [
              "   Standard Error  Economy (GDP per Capita)    Family  \\\n",
              "0         0.03411                  0.826132  0.962403   \n",
              "1         0.04884                  0.770412  1.000000   \n",
              "2         0.03328                  0.784113  0.970297   \n",
              "3         0.03880                  0.863099  0.949167   \n",
              "4         0.03553                  0.784592  0.943219   \n",
              "\n",
              "   Health (Life Expectancy)  Freedom  Trust (Government Corruption)  \\\n",
              "0                  0.918244  0.66557                        0.41978   \n",
              "1                  0.924496  0.62877                        0.14145   \n",
              "2                  0.853099  0.64938                        0.48357   \n",
              "3                  0.863409  0.66973                        0.36503   \n",
              "4                  0.883326  0.63297                        0.32957   \n",
              "\n",
              "   Generosity  Dystopia Residual  \n",
              "0     0.29678           0.668630  \n",
              "1     0.43630           0.725030  \n",
              "2     0.34139           0.660889  \n",
              "3     0.34699           0.652724  \n",
              "4     0.45811           0.648584  "
            ],
            "text/html": [
              "\n",
              "  <div id=\"df-831bf3f0-bb84-4fde-83ae-9032020b5a26\">\n",
              "    <div class=\"colab-df-container\">\n",
              "      <div>\n",
              "<style scoped>\n",
              "    .dataframe tbody tr th:only-of-type {\n",
              "        vertical-align: middle;\n",
              "    }\n",
              "\n",
              "    .dataframe tbody tr th {\n",
              "        vertical-align: top;\n",
              "    }\n",
              "\n",
              "    .dataframe thead th {\n",
              "        text-align: right;\n",
              "    }\n",
              "</style>\n",
              "<table border=\"1\" class=\"dataframe\">\n",
              "  <thead>\n",
              "    <tr style=\"text-align: right;\">\n",
              "      <th></th>\n",
              "      <th>Standard Error</th>\n",
              "      <th>Economy (GDP per Capita)</th>\n",
              "      <th>Family</th>\n",
              "      <th>Health (Life Expectancy)</th>\n",
              "      <th>Freedom</th>\n",
              "      <th>Trust (Government Corruption)</th>\n",
              "      <th>Generosity</th>\n",
              "      <th>Dystopia Residual</th>\n",
              "    </tr>\n",
              "  </thead>\n",
              "  <tbody>\n",
              "    <tr>\n",
              "      <th>0</th>\n",
              "      <td>0.03411</td>\n",
              "      <td>0.826132</td>\n",
              "      <td>0.962403</td>\n",
              "      <td>0.918244</td>\n",
              "      <td>0.66557</td>\n",
              "      <td>0.41978</td>\n",
              "      <td>0.29678</td>\n",
              "      <td>0.668630</td>\n",
              "    </tr>\n",
              "    <tr>\n",
              "      <th>1</th>\n",
              "      <td>0.04884</td>\n",
              "      <td>0.770412</td>\n",
              "      <td>1.000000</td>\n",
              "      <td>0.924496</td>\n",
              "      <td>0.62877</td>\n",
              "      <td>0.14145</td>\n",
              "      <td>0.43630</td>\n",
              "      <td>0.725030</td>\n",
              "    </tr>\n",
              "    <tr>\n",
              "      <th>2</th>\n",
              "      <td>0.03328</td>\n",
              "      <td>0.784113</td>\n",
              "      <td>0.970297</td>\n",
              "      <td>0.853099</td>\n",
              "      <td>0.64938</td>\n",
              "      <td>0.48357</td>\n",
              "      <td>0.34139</td>\n",
              "      <td>0.660889</td>\n",
              "    </tr>\n",
              "    <tr>\n",
              "      <th>3</th>\n",
              "      <td>0.03880</td>\n",
              "      <td>0.863099</td>\n",
              "      <td>0.949167</td>\n",
              "      <td>0.863409</td>\n",
              "      <td>0.66973</td>\n",
              "      <td>0.36503</td>\n",
              "      <td>0.34699</td>\n",
              "      <td>0.652724</td>\n",
              "    </tr>\n",
              "    <tr>\n",
              "      <th>4</th>\n",
              "      <td>0.03553</td>\n",
              "      <td>0.784592</td>\n",
              "      <td>0.943219</td>\n",
              "      <td>0.883326</td>\n",
              "      <td>0.63297</td>\n",
              "      <td>0.32957</td>\n",
              "      <td>0.45811</td>\n",
              "      <td>0.648584</td>\n",
              "    </tr>\n",
              "  </tbody>\n",
              "</table>\n",
              "</div>\n",
              "      <button class=\"colab-df-convert\" onclick=\"convertToInteractive('df-831bf3f0-bb84-4fde-83ae-9032020b5a26')\"\n",
              "              title=\"Convert this dataframe to an interactive table.\"\n",
              "              style=\"display:none;\">\n",
              "        \n",
              "  <svg xmlns=\"http://www.w3.org/2000/svg\" height=\"24px\"viewBox=\"0 0 24 24\"\n",
              "       width=\"24px\">\n",
              "    <path d=\"M0 0h24v24H0V0z\" fill=\"none\"/>\n",
              "    <path d=\"M18.56 5.44l.94 2.06.94-2.06 2.06-.94-2.06-.94-.94-2.06-.94 2.06-2.06.94zm-11 1L8.5 8.5l.94-2.06 2.06-.94-2.06-.94L8.5 2.5l-.94 2.06-2.06.94zm10 10l.94 2.06.94-2.06 2.06-.94-2.06-.94-.94-2.06-.94 2.06-2.06.94z\"/><path d=\"M17.41 7.96l-1.37-1.37c-.4-.4-.92-.59-1.43-.59-.52 0-1.04.2-1.43.59L10.3 9.45l-7.72 7.72c-.78.78-.78 2.05 0 2.83L4 21.41c.39.39.9.59 1.41.59.51 0 1.02-.2 1.41-.59l7.78-7.78 2.81-2.81c.8-.78.8-2.07 0-2.86zM5.41 20L4 18.59l7.72-7.72 1.47 1.35L5.41 20z\"/>\n",
              "  </svg>\n",
              "      </button>\n",
              "      \n",
              "  <style>\n",
              "    .colab-df-container {\n",
              "      display:flex;\n",
              "      flex-wrap:wrap;\n",
              "      gap: 12px;\n",
              "    }\n",
              "\n",
              "    .colab-df-convert {\n",
              "      background-color: #E8F0FE;\n",
              "      border: none;\n",
              "      border-radius: 50%;\n",
              "      cursor: pointer;\n",
              "      display: none;\n",
              "      fill: #1967D2;\n",
              "      height: 32px;\n",
              "      padding: 0 0 0 0;\n",
              "      width: 32px;\n",
              "    }\n",
              "\n",
              "    .colab-df-convert:hover {\n",
              "      background-color: #E2EBFA;\n",
              "      box-shadow: 0px 1px 2px rgba(60, 64, 67, 0.3), 0px 1px 3px 1px rgba(60, 64, 67, 0.15);\n",
              "      fill: #174EA6;\n",
              "    }\n",
              "\n",
              "    [theme=dark] .colab-df-convert {\n",
              "      background-color: #3B4455;\n",
              "      fill: #D2E3FC;\n",
              "    }\n",
              "\n",
              "    [theme=dark] .colab-df-convert:hover {\n",
              "      background-color: #434B5C;\n",
              "      box-shadow: 0px 1px 3px 1px rgba(0, 0, 0, 0.15);\n",
              "      filter: drop-shadow(0px 1px 2px rgba(0, 0, 0, 0.3));\n",
              "      fill: #FFFFFF;\n",
              "    }\n",
              "  </style>\n",
              "\n",
              "      <script>\n",
              "        const buttonEl =\n",
              "          document.querySelector('#df-831bf3f0-bb84-4fde-83ae-9032020b5a26 button.colab-df-convert');\n",
              "        buttonEl.style.display =\n",
              "          google.colab.kernel.accessAllowed ? 'block' : 'none';\n",
              "\n",
              "        async function convertToInteractive(key) {\n",
              "          const element = document.querySelector('#df-831bf3f0-bb84-4fde-83ae-9032020b5a26');\n",
              "          const dataTable =\n",
              "            await google.colab.kernel.invokeFunction('convertToInteractive',\n",
              "                                                     [key], {});\n",
              "          if (!dataTable) return;\n",
              "\n",
              "          const docLinkHtml = 'Like what you see? Visit the ' +\n",
              "            '<a target=\"_blank\" href=https://colab.research.google.com/notebooks/data_table.ipynb>data table notebook</a>'\n",
              "            + ' to learn more about interactive tables.';\n",
              "          element.innerHTML = '';\n",
              "          dataTable['output_type'] = 'display_data';\n",
              "          await google.colab.output.renderOutput(dataTable, element);\n",
              "          const docLink = document.createElement('div');\n",
              "          docLink.innerHTML = docLinkHtml;\n",
              "          element.appendChild(docLink);\n",
              "        }\n",
              "      </script>\n",
              "    </div>\n",
              "  </div>\n",
              "  "
            ]
          },
          "metadata": {},
          "execution_count": 100
        }
      ]
    },
    {
      "cell_type": "markdown",
      "source": [
        "# Q4. Remove outliers and keep outliers (does if have an effect of the final predictive model)?"
      ],
      "metadata": {
        "id": "NhVZr-QTx4VO"
      }
    },
    {
      "cell_type": "code",
      "source": [
        "d_test = pd.read_csv(\"https://raw.githubusercontent.com/Hanagojiv/DataSci/main/2015.csv\")"
      ],
      "metadata": {
        "id": "gTHZePfsX7Rg"
      },
      "execution_count": 86,
      "outputs": []
    },
    {
      "cell_type": "code",
      "source": [
        "import pandas as pd\n",
        "from pandas.api.types import is_numeric_dtype\n",
        "\n",
        "\n",
        "def remove_outlier(df):\n",
        "    low = .05\n",
        "    high = .95\n",
        "    quant_df = df.quantile([low, high])\n",
        "    print(quant_df)\n",
        "    for name in list(df.columns):\n",
        "        if is_numeric_dtype(df[name]):\n",
        "            df = df[(df[name] > quant_df.loc[low, name]) & (df[name] < quant_df.loc[high, name])]\n",
        "    return df\n",
        "\n",
        "df = remove_outlier(d_test)"
      ],
      "metadata": {
        "colab": {
          "base_uri": "https://localhost:8080/"
        },
        "id": "sBwXBD7qXgxE",
        "outputId": "ec6bbc5e-431d-4dfd-9744-7bdd8bf72b19"
      },
      "execution_count": 101,
      "outputs": [
        {
          "output_type": "stream",
          "name": "stdout",
          "text": [
            "      Happiness Rank  Happiness Score  Standard Error  \\\n",
            "0.05            8.85          3.65585        0.031036   \n",
            "0.95          150.15          7.29770        0.079260   \n",
            "\n",
            "      Economy (GDP per Capita)    Family  Health (Life Expectancy)   Freedom  \\\n",
            "0.05                  0.186325  0.415606                  0.151588  0.170474   \n",
            "0.95                  1.394645  1.318472                  0.942084  0.641588   \n",
            "\n",
            "      Trust (Government Corruption)  Generosity  Dystopia Residual  \n",
            "0.05                       0.015823    0.071195           1.236587  \n",
            "0.95                       0.401446    0.475174           3.037456  \n"
          ]
        }
      ]
    },
    {
      "cell_type": "code",
      "source": [
        "df.head()"
      ],
      "metadata": {
        "colab": {
          "base_uri": "https://localhost:8080/",
          "height": 204
        },
        "id": "dDAIvN5OXg30",
        "outputId": "5052716b-79f5-49bc-effc-6ccf1c0ff63a"
      },
      "execution_count": 93,
      "outputs": [
        {
          "output_type": "execute_result",
          "data": {
            "text/plain": [
              "    Standard Error  Economy (GDP per Capita)    Family  \\\n",
              "12         0.03751                  0.791064  0.924984   \n",
              "14         0.03839                  0.824949  0.889376   \n",
              "18         0.03595                  0.773666  0.916868   \n",
              "21         0.05335                  0.804599  0.771500   \n",
              "24         0.04910                  0.629151  0.854710   \n",
              "\n",
              "    Health (Life Expectancy)  Freedom  Trust (Government Corruption)  \\\n",
              "12                  0.868491  0.62433                        0.18676   \n",
              "14                  0.840566  0.54604                        0.15890   \n",
              "18                  0.874587  0.58450                        0.22540   \n",
              "21                  0.743975  0.63274                        0.32524   \n",
              "24                  0.776991  0.54210                        0.09270   \n",
              "\n",
              "    Generosity  Dystopia Residual  \n",
              "12     0.33088           0.673463  \n",
              "14     0.40105           0.666409  \n",
              "18     0.22250           0.637306  \n",
              "21     0.21542           0.655650  \n",
              "24     0.24434           0.769774  "
            ],
            "text/html": [
              "\n",
              "  <div id=\"df-179322fc-cfee-4b03-9640-318fd96df81b\">\n",
              "    <div class=\"colab-df-container\">\n",
              "      <div>\n",
              "<style scoped>\n",
              "    .dataframe tbody tr th:only-of-type {\n",
              "        vertical-align: middle;\n",
              "    }\n",
              "\n",
              "    .dataframe tbody tr th {\n",
              "        vertical-align: top;\n",
              "    }\n",
              "\n",
              "    .dataframe thead th {\n",
              "        text-align: right;\n",
              "    }\n",
              "</style>\n",
              "<table border=\"1\" class=\"dataframe\">\n",
              "  <thead>\n",
              "    <tr style=\"text-align: right;\">\n",
              "      <th></th>\n",
              "      <th>Standard Error</th>\n",
              "      <th>Economy (GDP per Capita)</th>\n",
              "      <th>Family</th>\n",
              "      <th>Health (Life Expectancy)</th>\n",
              "      <th>Freedom</th>\n",
              "      <th>Trust (Government Corruption)</th>\n",
              "      <th>Generosity</th>\n",
              "      <th>Dystopia Residual</th>\n",
              "    </tr>\n",
              "  </thead>\n",
              "  <tbody>\n",
              "    <tr>\n",
              "      <th>12</th>\n",
              "      <td>0.03751</td>\n",
              "      <td>0.791064</td>\n",
              "      <td>0.924984</td>\n",
              "      <td>0.868491</td>\n",
              "      <td>0.62433</td>\n",
              "      <td>0.18676</td>\n",
              "      <td>0.33088</td>\n",
              "      <td>0.673463</td>\n",
              "    </tr>\n",
              "    <tr>\n",
              "      <th>14</th>\n",
              "      <td>0.03839</td>\n",
              "      <td>0.824949</td>\n",
              "      <td>0.889376</td>\n",
              "      <td>0.840566</td>\n",
              "      <td>0.54604</td>\n",
              "      <td>0.15890</td>\n",
              "      <td>0.40105</td>\n",
              "      <td>0.666409</td>\n",
              "    </tr>\n",
              "    <tr>\n",
              "      <th>18</th>\n",
              "      <td>0.03595</td>\n",
              "      <td>0.773666</td>\n",
              "      <td>0.916868</td>\n",
              "      <td>0.874587</td>\n",
              "      <td>0.58450</td>\n",
              "      <td>0.22540</td>\n",
              "      <td>0.22250</td>\n",
              "      <td>0.637306</td>\n",
              "    </tr>\n",
              "    <tr>\n",
              "      <th>21</th>\n",
              "      <td>0.05335</td>\n",
              "      <td>0.804599</td>\n",
              "      <td>0.771500</td>\n",
              "      <td>0.743975</td>\n",
              "      <td>0.63274</td>\n",
              "      <td>0.32524</td>\n",
              "      <td>0.21542</td>\n",
              "      <td>0.655650</td>\n",
              "    </tr>\n",
              "    <tr>\n",
              "      <th>24</th>\n",
              "      <td>0.04910</td>\n",
              "      <td>0.629151</td>\n",
              "      <td>0.854710</td>\n",
              "      <td>0.776991</td>\n",
              "      <td>0.54210</td>\n",
              "      <td>0.09270</td>\n",
              "      <td>0.24434</td>\n",
              "      <td>0.769774</td>\n",
              "    </tr>\n",
              "  </tbody>\n",
              "</table>\n",
              "</div>\n",
              "      <button class=\"colab-df-convert\" onclick=\"convertToInteractive('df-179322fc-cfee-4b03-9640-318fd96df81b')\"\n",
              "              title=\"Convert this dataframe to an interactive table.\"\n",
              "              style=\"display:none;\">\n",
              "        \n",
              "  <svg xmlns=\"http://www.w3.org/2000/svg\" height=\"24px\"viewBox=\"0 0 24 24\"\n",
              "       width=\"24px\">\n",
              "    <path d=\"M0 0h24v24H0V0z\" fill=\"none\"/>\n",
              "    <path d=\"M18.56 5.44l.94 2.06.94-2.06 2.06-.94-2.06-.94-.94-2.06-.94 2.06-2.06.94zm-11 1L8.5 8.5l.94-2.06 2.06-.94-2.06-.94L8.5 2.5l-.94 2.06-2.06.94zm10 10l.94 2.06.94-2.06 2.06-.94-2.06-.94-.94-2.06-.94 2.06-2.06.94z\"/><path d=\"M17.41 7.96l-1.37-1.37c-.4-.4-.92-.59-1.43-.59-.52 0-1.04.2-1.43.59L10.3 9.45l-7.72 7.72c-.78.78-.78 2.05 0 2.83L4 21.41c.39.39.9.59 1.41.59.51 0 1.02-.2 1.41-.59l7.78-7.78 2.81-2.81c.8-.78.8-2.07 0-2.86zM5.41 20L4 18.59l7.72-7.72 1.47 1.35L5.41 20z\"/>\n",
              "  </svg>\n",
              "      </button>\n",
              "      \n",
              "  <style>\n",
              "    .colab-df-container {\n",
              "      display:flex;\n",
              "      flex-wrap:wrap;\n",
              "      gap: 12px;\n",
              "    }\n",
              "\n",
              "    .colab-df-convert {\n",
              "      background-color: #E8F0FE;\n",
              "      border: none;\n",
              "      border-radius: 50%;\n",
              "      cursor: pointer;\n",
              "      display: none;\n",
              "      fill: #1967D2;\n",
              "      height: 32px;\n",
              "      padding: 0 0 0 0;\n",
              "      width: 32px;\n",
              "    }\n",
              "\n",
              "    .colab-df-convert:hover {\n",
              "      background-color: #E2EBFA;\n",
              "      box-shadow: 0px 1px 2px rgba(60, 64, 67, 0.3), 0px 1px 3px 1px rgba(60, 64, 67, 0.15);\n",
              "      fill: #174EA6;\n",
              "    }\n",
              "\n",
              "    [theme=dark] .colab-df-convert {\n",
              "      background-color: #3B4455;\n",
              "      fill: #D2E3FC;\n",
              "    }\n",
              "\n",
              "    [theme=dark] .colab-df-convert:hover {\n",
              "      background-color: #434B5C;\n",
              "      box-shadow: 0px 1px 3px 1px rgba(0, 0, 0, 0.15);\n",
              "      filter: drop-shadow(0px 1px 2px rgba(0, 0, 0, 0.3));\n",
              "      fill: #FFFFFF;\n",
              "    }\n",
              "  </style>\n",
              "\n",
              "      <script>\n",
              "        const buttonEl =\n",
              "          document.querySelector('#df-179322fc-cfee-4b03-9640-318fd96df81b button.colab-df-convert');\n",
              "        buttonEl.style.display =\n",
              "          google.colab.kernel.accessAllowed ? 'block' : 'none';\n",
              "\n",
              "        async function convertToInteractive(key) {\n",
              "          const element = document.querySelector('#df-179322fc-cfee-4b03-9640-318fd96df81b');\n",
              "          const dataTable =\n",
              "            await google.colab.kernel.invokeFunction('convertToInteractive',\n",
              "                                                     [key], {});\n",
              "          if (!dataTable) return;\n",
              "\n",
              "          const docLinkHtml = 'Like what you see? Visit the ' +\n",
              "            '<a target=\"_blank\" href=https://colab.research.google.com/notebooks/data_table.ipynb>data table notebook</a>'\n",
              "            + ' to learn more about interactive tables.';\n",
              "          element.innerHTML = '';\n",
              "          dataTable['output_type'] = 'display_data';\n",
              "          await google.colab.output.renderOutput(dataTable, element);\n",
              "          const docLink = document.createElement('div');\n",
              "          docLink.innerHTML = docLinkHtml;\n",
              "          element.appendChild(docLink);\n",
              "        }\n",
              "      </script>\n",
              "    </div>\n",
              "  </div>\n",
              "  "
            ]
          },
          "metadata": {},
          "execution_count": 93
        }
      ]
    },
    {
      "cell_type": "markdown",
      "source": [
        "# Q5. Do the ranges of the predictor variables make sense?"
      ],
      "metadata": {
        "id": "iCPkSn7IK7c_"
      }
    },
    {
      "cell_type": "markdown",
      "source": [
        "Plotting the range of all predictor variables values individually"
      ],
      "metadata": {
        "id": "VQ-h8eRbF1pq"
      }
    },
    {
      "cell_type": "code",
      "source": [
        "#Checking the Ranges of the predictor variables individually\n",
        "cols = list(df.columns) \n",
        "f, axs = plt.subplots(3,3,figsize=(20,10))\n",
        "for i in range(len(cols)):\n",
        "  plt.subplot(3,3,i+1)\n",
        "  plt.title('Box plot of '+ cols[i])\n",
        "  sns.boxplot(xdata[cols[i]], palette = 'Set3')\n",
        "plt.show()"
      ],
      "metadata": {
        "colab": {
          "base_uri": "https://localhost:8080/",
          "height": 621
        },
        "id": "pNHV7IRB5HIT",
        "outputId": "3d792227-0aa5-4382-f9e8-e27e08f17c50"
      },
      "execution_count": 92,
      "outputs": [
        {
          "output_type": "display_data",
          "data": {
            "text/plain": [
              "<Figure size 1440x720 with 9 Axes>"
            ],
            "image/png": "[encoded data removed]"
          },
          "metadata": {
            "needs_background": "light"
          }
        }
      ]
    },
    {
      "cell_type": "markdown",
      "source": [
        "Normalizing the dataset\n",
        "We need to scale our numerical columns. Although we can use any scaling technique, we will be using normalization as we want to have values in the range of [0,1] and also to detect outliers as normalization is highly affected my outliers"
      ],
      "metadata": {
        "id": "l1pbjF7fsL8-"
      }
    },
    {
      "cell_type": "code",
      "source": [
        "# list of numerical columns which require normalization\n",
        "num_cols=['Economy (GDP per Capita)','Family','Health (Life Expectancy)', 'Dystopia Residual']\n",
        "\n",
        "# Importing required library from sklearn for normalization\n",
        "from sklearn import preprocessing\n",
        "feature_to_scale = num_cols\n",
        "\n",
        "# Preparing for normalizing\n",
        "min_max_scaler = preprocessing.MinMaxScaler()\n",
        "\n",
        "# Transform the data to fit minmax processor\n",
        "x[feature_to_scale] = min_max_scaler.fit_transform(x[feature_to_scale])"
      ],
      "metadata": {
        "id": "3_kj_0Dg6Qeh"
      },
      "execution_count": 30,
      "outputs": []
    },
    {
      "cell_type": "code",
      "source": [
        "x.describe()"
      ],
      "metadata": {
        "colab": {
          "base_uri": "https://localhost:8080/",
          "height": 297
        },
        "id": "-3bu3izr6Qhe",
        "outputId": "e3ca2dbf-fb8e-4b96-ae3d-2477d120cc98"
      },
      "execution_count": 31,
      "outputs": [
        {
          "output_type": "execute_result",
          "data": {
            "text/plain": [
              "       Standard Error  Economy (GDP per Capita)      Family  \\\n",
              "count      158.000000                158.000000  158.000000   \n",
              "mean         0.047885                  0.500549    0.706764   \n",
              "std          0.017146                  0.238474    0.194240   \n",
              "min          0.018480                  0.000000    0.000000   \n",
              "25%          0.037268                  0.322883    0.611043   \n",
              "50%          0.043940                  0.538473    0.734195   \n",
              "75%          0.052300                  0.685302    0.866053   \n",
              "max          0.136930                  1.000000    1.000000   \n",
              "\n",
              "       Health (Life Expectancy)     Freedom  Trust (Government Corruption)  \\\n",
              "count                158.000000  158.000000                     158.000000   \n",
              "mean                   0.614737    0.428615                       0.143422   \n",
              "std                    0.240993    0.150693                       0.120034   \n",
              "min                    0.000000    0.000000                       0.000000   \n",
              "25%                    0.428369    0.328330                       0.061675   \n",
              "50%                    0.679546    0.435515                       0.107220   \n",
              "75%                    0.791039    0.549092                       0.180255   \n",
              "max                    1.000000    0.669730                       0.551910   \n",
              "\n",
              "       Generosity  Dystopia Residual  \n",
              "count  158.000000         158.000000  \n",
              "mean     0.237296           0.540817  \n",
              "std      0.126685           0.169097  \n",
              "min      0.000000           0.000000  \n",
              "25%      0.150553           0.437087  \n",
              "50%      0.216130           0.539729  \n",
              "75%      0.309883           0.651839  \n",
              "max      0.795880           1.000000  "
            ],
            "text/html": [
              "\n",
              "  <div id=\"df-1d7747e6-a344-4803-8da9-589051861a63\">\n",
              "    <div class=\"colab-df-container\">\n",
              "      <div>\n",
              "<style scoped>\n",
              "    .dataframe tbody tr th:only-of-type {\n",
              "        vertical-align: middle;\n",
              "    }\n",
              "\n",
              "    .dataframe tbody tr th {\n",
              "        vertical-align: top;\n",
              "    }\n",
              "\n",
              "    .dataframe thead th {\n",
              "        text-align: right;\n",
              "    }\n",
              "</style>\n",
              "<table border=\"1\" class=\"dataframe\">\n",
              "  <thead>\n",
              "    <tr style=\"text-align: right;\">\n",
              "      <th></th>\n",
              "      <th>Standard Error</th>\n",
              "      <th>Economy (GDP per Capita)</th>\n",
              "      <th>Family</th>\n",
              "      <th>Health (Life Expectancy)</th>\n",
              "      <th>Freedom</th>\n",
              "      <th>Trust (Government Corruption)</th>\n",
              "      <th>Generosity</th>\n",
              "      <th>Dystopia Residual</th>\n",
              "    </tr>\n",
              "  </thead>\n",
              "  <tbody>\n",
              "    <tr>\n",
              "      <th>count</th>\n",
              "      <td>158.000000</td>\n",
              "      <td>158.000000</td>\n",
              "      <td>158.000000</td>\n",
              "      <td>158.000000</td>\n",
              "      <td>158.000000</td>\n",
              "      <td>158.000000</td>\n",
              "      <td>158.000000</td>\n",
              "      <td>158.000000</td>\n",
              "    </tr>\n",
              "    <tr>\n",
              "      <th>mean</th>\n",
              "      <td>0.047885</td>\n",
              "      <td>0.500549</td>\n",
              "      <td>0.706764</td>\n",
              "      <td>0.614737</td>\n",
              "      <td>0.428615</td>\n",
              "      <td>0.143422</td>\n",
              "      <td>0.237296</td>\n",
              "      <td>0.540817</td>\n",
              "    </tr>\n",
              "    <tr>\n",
              "      <th>std</th>\n",
              "      <td>0.017146</td>\n",
              "      <td>0.238474</td>\n",
              "      <td>0.194240</td>\n",
              "      <td>0.240993</td>\n",
              "      <td>0.150693</td>\n",
              "      <td>0.120034</td>\n",
              "      <td>0.126685</td>\n",
              "      <td>0.169097</td>\n",
              "    </tr>\n",
              "    <tr>\n",
              "      <th>min</th>\n",
              "      <td>0.018480</td>\n",
              "      <td>0.000000</td>\n",
              "      <td>0.000000</td>\n",
              "      <td>0.000000</td>\n",
              "      <td>0.000000</td>\n",
              "      <td>0.000000</td>\n",
              "      <td>0.000000</td>\n",
              "      <td>0.000000</td>\n",
              "    </tr>\n",
              "    <tr>\n",
              "      <th>25%</th>\n",
              "      <td>0.037268</td>\n",
              "      <td>0.322883</td>\n",
              "      <td>0.611043</td>\n",
              "      <td>0.428369</td>\n",
              "      <td>0.328330</td>\n",
              "      <td>0.061675</td>\n",
              "      <td>0.150553</td>\n",
              "      <td>0.437087</td>\n",
              "    </tr>\n",
              "    <tr>\n",
              "      <th>50%</th>\n",
              "      <td>0.043940</td>\n",
              "      <td>0.538473</td>\n",
              "      <td>0.734195</td>\n",
              "      <td>0.679546</td>\n",
              "      <td>0.435515</td>\n",
              "      <td>0.107220</td>\n",
              "      <td>0.216130</td>\n",
              "      <td>0.539729</td>\n",
              "    </tr>\n",
              "    <tr>\n",
              "      <th>75%</th>\n",
              "      <td>0.052300</td>\n",
              "      <td>0.685302</td>\n",
              "      <td>0.866053</td>\n",
              "      <td>0.791039</td>\n",
              "      <td>0.549092</td>\n",
              "      <td>0.180255</td>\n",
              "      <td>0.309883</td>\n",
              "      <td>0.651839</td>\n",
              "    </tr>\n",
              "    <tr>\n",
              "      <th>max</th>\n",
              "      <td>0.136930</td>\n",
              "      <td>1.000000</td>\n",
              "      <td>1.000000</td>\n",
              "      <td>1.000000</td>\n",
              "      <td>0.669730</td>\n",
              "      <td>0.551910</td>\n",
              "      <td>0.795880</td>\n",
              "      <td>1.000000</td>\n",
              "    </tr>\n",
              "  </tbody>\n",
              "</table>\n",
              "</div>\n",
              "      <button class=\"colab-df-convert\" onclick=\"convertToInteractive('df-1d7747e6-a344-4803-8da9-589051861a63')\"\n",
              "              title=\"Convert this dataframe to an interactive table.\"\n",
              "              style=\"display:none;\">\n",
              "        \n",
              "  <svg xmlns=\"http://www.w3.org/2000/svg\" height=\"24px\"viewBox=\"0 0 24 24\"\n",
              "       width=\"24px\">\n",
              "    <path d=\"M0 0h24v24H0V0z\" fill=\"none\"/>\n",
              "    <path d=\"M18.56 5.44l.94 2.06.94-2.06 2.06-.94-2.06-.94-.94-2.06-.94 2.06-2.06.94zm-11 1L8.5 8.5l.94-2.06 2.06-.94-2.06-.94L8.5 2.5l-.94 2.06-2.06.94zm10 10l.94 2.06.94-2.06 2.06-.94-2.06-.94-.94-2.06-.94 2.06-2.06.94z\"/><path d=\"M17.41 7.96l-1.37-1.37c-.4-.4-.92-.59-1.43-.59-.52 0-1.04.2-1.43.59L10.3 9.45l-7.72 7.72c-.78.78-.78 2.05 0 2.83L4 21.41c.39.39.9.59 1.41.59.51 0 1.02-.2 1.41-.59l7.78-7.78 2.81-2.81c.8-.78.8-2.07 0-2.86zM5.41 20L4 18.59l7.72-7.72 1.47 1.35L5.41 20z\"/>\n",
              "  </svg>\n",
              "      </button>\n",
              "      \n",
              "  <style>\n",
              "    .colab-df-container {\n",
              "      display:flex;\n",
              "      flex-wrap:wrap;\n",
              "      gap: 12px;\n",
              "    }\n",
              "\n",
              "    .colab-df-convert {\n",
              "      background-color: #E8F0FE;\n",
              "      border: none;\n",
              "      border-radius: 50%;\n",
              "      cursor: pointer;\n",
              "      display: none;\n",
              "      fill: #1967D2;\n",
              "      height: 32px;\n",
              "      padding: 0 0 0 0;\n",
              "      width: 32px;\n",
              "    }\n",
              "\n",
              "    .colab-df-convert:hover {\n",
              "      background-color: #E2EBFA;\n",
              "      box-shadow: 0px 1px 2px rgba(60, 64, 67, 0.3), 0px 1px 3px 1px rgba(60, 64, 67, 0.15);\n",
              "      fill: #174EA6;\n",
              "    }\n",
              "\n",
              "    [theme=dark] .colab-df-convert {\n",
              "      background-color: #3B4455;\n",
              "      fill: #D2E3FC;\n",
              "    }\n",
              "\n",
              "    [theme=dark] .colab-df-convert:hover {\n",
              "      background-color: #434B5C;\n",
              "      box-shadow: 0px 1px 3px 1px rgba(0, 0, 0, 0.15);\n",
              "      filter: drop-shadow(0px 1px 2px rgba(0, 0, 0, 0.3));\n",
              "      fill: #FFFFFF;\n",
              "    }\n",
              "  </style>\n",
              "\n",
              "      <script>\n",
              "        const buttonEl =\n",
              "          document.querySelector('#df-1d7747e6-a344-4803-8da9-589051861a63 button.colab-df-convert');\n",
              "        buttonEl.style.display =\n",
              "          google.colab.kernel.accessAllowed ? 'block' : 'none';\n",
              "\n",
              "        async function convertToInteractive(key) {\n",
              "          const element = document.querySelector('#df-1d7747e6-a344-4803-8da9-589051861a63');\n",
              "          const dataTable =\n",
              "            await google.colab.kernel.invokeFunction('convertToInteractive',\n",
              "                                                     [key], {});\n",
              "          if (!dataTable) return;\n",
              "\n",
              "          const docLinkHtml = 'Like what you see? Visit the ' +\n",
              "            '<a target=\"_blank\" href=https://colab.research.google.com/notebooks/data_table.ipynb>data table notebook</a>'\n",
              "            + ' to learn more about interactive tables.';\n",
              "          element.innerHTML = '';\n",
              "          dataTable['output_type'] = 'display_data';\n",
              "          await google.colab.output.renderOutput(dataTable, element);\n",
              "          const docLink = document.createElement('div');\n",
              "          docLink.innerHTML = docLinkHtml;\n",
              "          element.appendChild(docLink);\n",
              "        }\n",
              "      </script>\n",
              "    </div>\n",
              "  </div>\n",
              "  "
            ]
          },
          "metadata": {},
          "execution_count": 31
        }
      ]
    },
    {
      "cell_type": "markdown",
      "source": [
        "Observations:\n",
        "We can see that the numerical variables - Economy (GDP per Capital), Family, Health (Life Expectancy) and Dystopia Residual are now in the range of 0 to 1"
      ],
      "metadata": {
        "id": "UU1XiSLYsims"
      }
    },
    {
      "cell_type": "code",
      "source": [
        "#Checking the Ranges of the predictor variables together after normalization of numerical variables\n",
        "plt.figure(figsize=(20,7))\n",
        "sns.boxplot(data=x, palette=\"Set3\")\n",
        "plt.title(\"Box plot of predictor variables of the dataset\", size=14)"
      ],
      "metadata": {
        "colab": {
          "base_uri": "https://localhost:8080/",
          "height": 462
        },
        "id": "f-gS5Q8W6Qmn",
        "outputId": "724df23e-8c3b-4067-dcaf-63df7908af8b"
      },
      "execution_count": 32,
      "outputs": [
        {
          "output_type": "execute_result",
          "data": {
            "text/plain": [
              "Text(0.5, 1.0, 'Box plot of predictor variables of the dataset')"
            ]
          },
          "metadata": {},
          "execution_count": 32
        },
        {
          "output_type": "display_data",
          "data": {
            "text/plain": [
              "<Figure size 1440x504 with 1 Axes>"
            ],
            "image/png": "[encoded data removed]"
          },
          "metadata": {
            "needs_background": "light"
          }
        }
      ]
    },
    {
      "cell_type": "markdown",
      "source": [
        "# Q6. Are the predictor variables independent of all other predictor variables?"
      ],
      "metadata": {
        "id": "2vBuxxmjtC5s"
      }
    },
    {
      "cell_type": "code",
      "source": [
        "x.corr()"
      ],
      "metadata": {
        "colab": {
          "base_uri": "https://localhost:8080/",
          "height": 375
        },
        "id": "xpmDyqop6Qps",
        "outputId": "90e2eb79-bb44-451e-ad66-4cf9725082c9"
      },
      "execution_count": 33,
      "outputs": [
        {
          "output_type": "execute_result",
          "data": {
            "text/plain": [
              "                               Standard Error  Economy (GDP per Capita)  \\\n",
              "Standard Error                       1.000000                 -0.217651   \n",
              "Economy (GDP per Capita)            -0.217651                  1.000000   \n",
              "Family                              -0.120728                  0.645299   \n",
              "Health (Life Expectancy)            -0.310287                  0.816478   \n",
              "Freedom                             -0.129773                  0.370300   \n",
              "Trust (Government Corruption)       -0.178325                  0.307885   \n",
              "Generosity                          -0.088439                 -0.010465   \n",
              "Dystopia Residual                    0.083981                  0.040059   \n",
              "\n",
              "                                 Family  Health (Life Expectancy)   Freedom  \\\n",
              "Standard Error                -0.120728                 -0.310287 -0.129773   \n",
              "Economy (GDP per Capita)       0.645299                  0.816478  0.370300   \n",
              "Family                         1.000000                  0.531104  0.441518   \n",
              "Health (Life Expectancy)       0.531104                  1.000000  0.360477   \n",
              "Freedom                        0.441518                  0.360477  1.000000   \n",
              "Trust (Government Corruption)  0.205605                  0.248335  0.493524   \n",
              "Generosity                     0.087513                  0.108335  0.373916   \n",
              "Dystopia Residual              0.148117                  0.018979  0.062783   \n",
              "\n",
              "                               Trust (Government Corruption)  Generosity  \\\n",
              "Standard Error                                     -0.178325   -0.088439   \n",
              "Economy (GDP per Capita)                            0.307885   -0.010465   \n",
              "Family                                              0.205605    0.087513   \n",
              "Health (Life Expectancy)                            0.248335    0.108335   \n",
              "Freedom                                             0.493524    0.373916   \n",
              "Trust (Government Corruption)                       1.000000    0.276123   \n",
              "Generosity                                          0.276123    1.000000   \n",
              "Dystopia Residual                                  -0.033105   -0.101301   \n",
              "\n",
              "                               Dystopia Residual  \n",
              "Standard Error                          0.083981  \n",
              "Economy (GDP per Capita)                0.040059  \n",
              "Family                                  0.148117  \n",
              "Health (Life Expectancy)                0.018979  \n",
              "Freedom                                 0.062783  \n",
              "Trust (Government Corruption)          -0.033105  \n",
              "Generosity                             -0.101301  \n",
              "Dystopia Residual                       1.000000  "
            ],
            "text/html": [
              "\n",
              "  <div id=\"df-03364f99-95e3-4145-a6f5-fc07b2449017\">\n",
              "    <div class=\"colab-df-container\">\n",
              "      <div>\n",
              "<style scoped>\n",
              "    .dataframe tbody tr th:only-of-type {\n",
              "        vertical-align: middle;\n",
              "    }\n",
              "\n",
              "    .dataframe tbody tr th {\n",
              "        vertical-align: top;\n",
              "    }\n",
              "\n",
              "    .dataframe thead th {\n",
              "        text-align: right;\n",
              "    }\n",
              "</style>\n",
              "<table border=\"1\" class=\"dataframe\">\n",
              "  <thead>\n",
              "    <tr style=\"text-align: right;\">\n",
              "      <th></th>\n",
              "      <th>Standard Error</th>\n",
              "      <th>Economy (GDP per Capita)</th>\n",
              "      <th>Family</th>\n",
              "      <th>Health (Life Expectancy)</th>\n",
              "      <th>Freedom</th>\n",
              "      <th>Trust (Government Corruption)</th>\n",
              "      <th>Generosity</th>\n",
              "      <th>Dystopia Residual</th>\n",
              "    </tr>\n",
              "  </thead>\n",
              "  <tbody>\n",
              "    <tr>\n",
              "      <th>Standard Error</th>\n",
              "      <td>1.000000</td>\n",
              "      <td>-0.217651</td>\n",
              "      <td>-0.120728</td>\n",
              "      <td>-0.310287</td>\n",
              "      <td>-0.129773</td>\n",
              "      <td>-0.178325</td>\n",
              "      <td>-0.088439</td>\n",
              "      <td>0.083981</td>\n",
              "    </tr>\n",
              "    <tr>\n",
              "      <th>Economy (GDP per Capita)</th>\n",
              "      <td>-0.217651</td>\n",
              "      <td>1.000000</td>\n",
              "      <td>0.645299</td>\n",
              "      <td>0.816478</td>\n",
              "      <td>0.370300</td>\n",
              "      <td>0.307885</td>\n",
              "      <td>-0.010465</td>\n",
              "      <td>0.040059</td>\n",
              "    </tr>\n",
              "    <tr>\n",
              "      <th>Family</th>\n",
              "      <td>-0.120728</td>\n",
              "      <td>0.645299</td>\n",
              "      <td>1.000000</td>\n",
              "      <td>0.531104</td>\n",
              "      <td>0.441518</td>\n",
              "      <td>0.205605</td>\n",
              "      <td>0.087513</td>\n",
              "      <td>0.148117</td>\n",
              "    </tr>\n",
              "    <tr>\n",
              "      <th>Health (Life Expectancy)</th>\n",
              "      <td>-0.310287</td>\n",
              "      <td>0.816478</td>\n",
              "      <td>0.531104</td>\n",
              "      <td>1.000000</td>\n",
              "      <td>0.360477</td>\n",
              "      <td>0.248335</td>\n",
              "      <td>0.108335</td>\n",
              "      <td>0.018979</td>\n",
              "    </tr>\n",
              "    <tr>\n",
              "      <th>Freedom</th>\n",
              "      <td>-0.129773</td>\n",
              "      <td>0.370300</td>\n",
              "      <td>0.441518</td>\n",
              "      <td>0.360477</td>\n",
              "      <td>1.000000</td>\n",
              "      <td>0.493524</td>\n",
              "      <td>0.373916</td>\n",
              "      <td>0.062783</td>\n",
              "    </tr>\n",
              "    <tr>\n",
              "      <th>Trust (Government Corruption)</th>\n",
              "      <td>-0.178325</td>\n",
              "      <td>0.307885</td>\n",
              "      <td>0.205605</td>\n",
              "      <td>0.248335</td>\n",
              "      <td>0.493524</td>\n",
              "      <td>1.000000</td>\n",
              "      <td>0.276123</td>\n",
              "      <td>-0.033105</td>\n",
              "    </tr>\n",
              "    <tr>\n",
              "      <th>Generosity</th>\n",
              "      <td>-0.088439</td>\n",
              "      <td>-0.010465</td>\n",
              "      <td>0.087513</td>\n",
              "      <td>0.108335</td>\n",
              "      <td>0.373916</td>\n",
              "      <td>0.276123</td>\n",
              "      <td>1.000000</td>\n",
              "      <td>-0.101301</td>\n",
              "    </tr>\n",
              "    <tr>\n",
              "      <th>Dystopia Residual</th>\n",
              "      <td>0.083981</td>\n",
              "      <td>0.040059</td>\n",
              "      <td>0.148117</td>\n",
              "      <td>0.018979</td>\n",
              "      <td>0.062783</td>\n",
              "      <td>-0.033105</td>\n",
              "      <td>-0.101301</td>\n",
              "      <td>1.000000</td>\n",
              "    </tr>\n",
              "  </tbody>\n",
              "</table>\n",
              "</div>\n",
              "      <button class=\"colab-df-convert\" onclick=\"convertToInteractive('df-03364f99-95e3-4145-a6f5-fc07b2449017')\"\n",
              "              title=\"Convert this dataframe to an interactive table.\"\n",
              "              style=\"display:none;\">\n",
              "        \n",
              "  <svg xmlns=\"http://www.w3.org/2000/svg\" height=\"24px\"viewBox=\"0 0 24 24\"\n",
              "       width=\"24px\">\n",
              "    <path d=\"M0 0h24v24H0V0z\" fill=\"none\"/>\n",
              "    <path d=\"M18.56 5.44l.94 2.06.94-2.06 2.06-.94-2.06-.94-.94-2.06-.94 2.06-2.06.94zm-11 1L8.5 8.5l.94-2.06 2.06-.94-2.06-.94L8.5 2.5l-.94 2.06-2.06.94zm10 10l.94 2.06.94-2.06 2.06-.94-2.06-.94-.94-2.06-.94 2.06-2.06.94z\"/><path d=\"M17.41 7.96l-1.37-1.37c-.4-.4-.92-.59-1.43-.59-.52 0-1.04.2-1.43.59L10.3 9.45l-7.72 7.72c-.78.78-.78 2.05 0 2.83L4 21.41c.39.39.9.59 1.41.59.51 0 1.02-.2 1.41-.59l7.78-7.78 2.81-2.81c.8-.78.8-2.07 0-2.86zM5.41 20L4 18.59l7.72-7.72 1.47 1.35L5.41 20z\"/>\n",
              "  </svg>\n",
              "      </button>\n",
              "      \n",
              "  <style>\n",
              "    .colab-df-container {\n",
              "      display:flex;\n",
              "      flex-wrap:wrap;\n",
              "      gap: 12px;\n",
              "    }\n",
              "\n",
              "    .colab-df-convert {\n",
              "      background-color: #E8F0FE;\n",
              "      border: none;\n",
              "      border-radius: 50%;\n",
              "      cursor: pointer;\n",
              "      display: none;\n",
              "      fill: #1967D2;\n",
              "      height: 32px;\n",
              "      padding: 0 0 0 0;\n",
              "      width: 32px;\n",
              "    }\n",
              "\n",
              "    .colab-df-convert:hover {\n",
              "      background-color: #E2EBFA;\n",
              "      box-shadow: 0px 1px 2px rgba(60, 64, 67, 0.3), 0px 1px 3px 1px rgba(60, 64, 67, 0.15);\n",
              "      fill: #174EA6;\n",
              "    }\n",
              "\n",
              "    [theme=dark] .colab-df-convert {\n",
              "      background-color: #3B4455;\n",
              "      fill: #D2E3FC;\n",
              "    }\n",
              "\n",
              "    [theme=dark] .colab-df-convert:hover {\n",
              "      background-color: #434B5C;\n",
              "      box-shadow: 0px 1px 3px 1px rgba(0, 0, 0, 0.15);\n",
              "      filter: drop-shadow(0px 1px 2px rgba(0, 0, 0, 0.3));\n",
              "      fill: #FFFFFF;\n",
              "    }\n",
              "  </style>\n",
              "\n",
              "      <script>\n",
              "        const buttonEl =\n",
              "          document.querySelector('#df-03364f99-95e3-4145-a6f5-fc07b2449017 button.colab-df-convert');\n",
              "        buttonEl.style.display =\n",
              "          google.colab.kernel.accessAllowed ? 'block' : 'none';\n",
              "\n",
              "        async function convertToInteractive(key) {\n",
              "          const element = document.querySelector('#df-03364f99-95e3-4145-a6f5-fc07b2449017');\n",
              "          const dataTable =\n",
              "            await google.colab.kernel.invokeFunction('convertToInteractive',\n",
              "                                                     [key], {});\n",
              "          if (!dataTable) return;\n",
              "\n",
              "          const docLinkHtml = 'Like what you see? Visit the ' +\n",
              "            '<a target=\"_blank\" href=https://colab.research.google.com/notebooks/data_table.ipynb>data table notebook</a>'\n",
              "            + ' to learn more about interactive tables.';\n",
              "          element.innerHTML = '';\n",
              "          dataTable['output_type'] = 'display_data';\n",
              "          await google.colab.output.renderOutput(dataTable, element);\n",
              "          const docLink = document.createElement('div');\n",
              "          docLink.innerHTML = docLinkHtml;\n",
              "          element.appendChild(docLink);\n",
              "        }\n",
              "      </script>\n",
              "    </div>\n",
              "  </div>\n",
              "  "
            ]
          },
          "metadata": {},
          "execution_count": 33
        }
      ]
    },
    {
      "cell_type": "markdown",
      "source": [
        "Observations:\n",
        "\n",
        "At first glance we can see that that the variables have collinearity to some extent. To visualize the values lets check the heatmap next"
      ],
      "metadata": {
        "id": "JpW321gZtMiy"
      }
    },
    {
      "cell_type": "code",
      "source": [
        "#the heat map of the correlation\n",
        "plt.figure(figsize=(20,7))\n",
        "sns.heatmap(x.corr(), annot=True, cmap='RdYlGn')"
      ],
      "metadata": {
        "colab": {
          "base_uri": "https://localhost:8080/",
          "height": 449
        },
        "id": "FWVUM2cp6Quf",
        "outputId": "56a56510-35c3-4b9b-b1d7-0f213883062b"
      },
      "execution_count": 34,
      "outputs": [
        {
          "output_type": "execute_result",
          "data": {
            "text/plain": [
              "<matplotlib.axes._subplots.AxesSubplot at 0x7f5faeae7e80>"
            ]
          },
          "metadata": {},
          "execution_count": 34
        },
        {
          "output_type": "display_data",
          "data": {
            "text/plain": [
              "<Figure size 1440x504 with 2 Axes>"
            ],
            "image/png": "[encoded data removed]"
          },
          "metadata": {
            "needs_background": "light"
          }
        }
      ]
    },
    {
      "cell_type": "markdown",
      "source": [
        "Observations:\n",
        "\n",
        "1. It is very clear from the heatmap that most of the variables are dependent on each other like Health(Life Expectancy) and Economy (GDP per capita); Family and Economy (GDP per Capita); Trust (Government Corruption) and Freedom.\n",
        "2. Degree of collinearity is significantly less that 0.5 for most variables.\n",
        "3. The Health(Life Expectancy) and Economy (GDP per Capita) have a degree of collinearity of 0.82\n",
        "\n",
        "\n",
        "\n"
      ],
      "metadata": {
        "id": "rut0KZPLtd6z"
      }
    },
    {
      "cell_type": "markdown",
      "source": [
        "Creating a Train - Test split for our model training and predictions"
      ],
      "metadata": {
        "id": "5IWRV-Rsv-JQ"
      }
    },
    {
      "cell_type": "code",
      "source": [
        "from sklearn.model_selection import  train_test_split\n",
        "from sklearn.preprocessing import StandardScaler\n",
        "\n",
        "#Spliting data into Training 80% and Test set 20%\n",
        "\n",
        "X_train, X_test, y_train, y_test = train_test_split(x, y, test_size=0.2, random_state=1)\n",
        "\n",
        "#sc = StandardScaler()\n",
        "#X_train = sc.fit_transform(X_train)\n",
        "#X_test = sc.transform(X_test)"
      ],
      "metadata": {
        "id": "yExtS4fQ6Qxq"
      },
      "execution_count": 35,
      "outputs": []
    },
    {
      "cell_type": "code",
      "source": [
        "print(y)"
      ],
      "metadata": {
        "colab": {
          "base_uri": "https://localhost:8080/"
        },
        "id": "ezoKPKGtJ-2T",
        "outputId": "475beae4-91ee-4058-bffa-204fdada9c49"
      },
      "execution_count": 36,
      "outputs": [
        {
          "output_type": "stream",
          "name": "stdout",
          "text": [
            "0      7.587\n",
            "1      7.561\n",
            "2      7.527\n",
            "3      7.522\n",
            "4      7.427\n",
            "       ...  \n",
            "153    3.465\n",
            "154    3.340\n",
            "155    3.006\n",
            "156    2.905\n",
            "157    2.839\n",
            "Name: Happiness Score, Length: 158, dtype: float64\n"
          ]
        }
      ]
    },
    {
      "cell_type": "markdown",
      "source": [
        "# Q7. Do the training and test sets have the same data?"
      ],
      "metadata": {
        "id": "fBm4VnjewIcN"
      }
    },
    {
      "cell_type": "code",
      "source": [
        "# Looking the data for test and training set\n",
        "X_test_plot = X_test\n",
        "X_train_plot = X_train\n",
        "\n",
        "#Plotting the data to see the histogram\n",
        "for c in X_test_plot.columns[:]:\n",
        "    plt.figure(figsize=(6,7))\n",
        "    plt.hist(X_train_plot[c], bins=10, alpha=0.5, label=\"Train Set\", color=\"darkgreen\")\n",
        "    plt.hist(X_test_plot[c], bins=10, alpha=0.5, label=\"Test Set\", color =\"red\")\n",
        "    plt.xlabel(c, size=14)\n",
        "    plt.ylabel(\"Count\", size=14)\n",
        "    plt.legend(loc='upper right')\n",
        "    plt.title(\"{} distribution\".format(c))\n",
        "    plt.show()"
      ],
      "metadata": {
        "colab": {
          "base_uri": "https://localhost:8080/",
          "height": 1000
        },
        "id": "8_n-6Nzr6xWo",
        "outputId": "5cc2bfb8-0687-4dee-c612-95746e55e74a"
      },
      "execution_count": 37,
      "outputs": [
        {
          "output_type": "display_data",
          "data": {
            "text/plain": [
              "<Figure size 432x504 with 1 Axes>"
            ],
            "image/png": "[encoded data removed]"
          },
          "metadata": {
            "needs_background": "light"
          }
        },
        {
          "output_type": "display_data",
          "data": {
            "text/plain": [
              "<Figure size 432x504 with 1 Axes>"
            ],
            "image/png": "[encoded data removed]"
          },
          "metadata": {
            "needs_background": "light"
          }
        },
        {
          "output_type": "display_data",
          "data": {
            "text/plain": [
              "<Figure size 432x504 with 1 Axes>"
            ],
            "image/png": "[encoded data removed]"
          },
          "metadata": {
            "needs_background": "light"
          }
        },
        {
          "output_type": "display_data",
          "data": {
            "text/plain": [
              "<Figure size 432x504 with 1 Axes>"
            ],
            "image/png": "[encoded data removed]"
          },
          "metadata": {
            "needs_background": "light"
          }
        },
        {
          "output_type": "display_data",
          "data": {
            "text/plain": [
              "<Figure size 432x504 with 1 Axes>"
            ],
            "image/png": "[encoded data removed]"
          },
          "metadata": {
            "needs_background": "light"
          }
        },
        {
          "output_type": "display_data",
          "data": {
            "text/plain": [
              "<Figure size 432x504 with 1 Axes>"
            ],
            "image/png": "[encoded data removed]"
          },
          "metadata": {
            "needs_background": "light"
          }
        },
        {
          "output_type": "display_data",
          "data": {
            "text/plain": [
              "<Figure size 432x504 with 1 Axes>"
            ],
            "image/png": "[encoded data removed]"
          },
          "metadata": {
            "needs_background": "light"
          }
        },
        {
          "output_type": "display_data",
          "data": {
            "text/plain": [
              "<Figure size 432x504 with 1 Axes>"
            ],
            "image/png": "[encoded data removed]"
          },
          "metadata": {
            "needs_background": "light"
          }
        }
      ]
    },
    {
      "cell_type": "markdown",
      "source": [
        "Observations:\n",
        "\n",
        "The ratio of 80%-20% for train-test split appears to be distributed correctly for all the variables"
      ],
      "metadata": {
        "id": "-6asKamfxGHM"
      }
    },
    {
      "cell_type": "markdown",
      "source": [
        "# Q8. Which predictor variables are the most useful to predict a target?"
      ],
      "metadata": {
        "id": "iQUgGwKu0SjD"
      }
    },
    {
      "cell_type": "code",
      "source": [
        "#Using OLS for finding the p value to check the significant features\n",
        "import statsmodels.api as sm\n",
        "\n",
        "\n",
        "\n",
        "import statsmodels.api as sm\n",
        "model = sm.OLS(y, x[['Standard Error','Economy (GDP per Capita)','Family', 'Health (Life Expectancy)', 'Freedom','Trust (Government Corruption)',\n",
        "       'Generosity', 'Dystopia Residual']]).fit()\n",
        "model.summary()"
      ],
      "metadata": {
        "colab": {
          "base_uri": "https://localhost:8080/",
          "height": 587
        },
        "id": "4mpAycc66xZi",
        "outputId": "49f1c1ea-3d7d-460e-a365-54fcd6e445e1"
      },
      "execution_count": 38,
      "outputs": [
        {
          "output_type": "execute_result",
          "data": {
            "text/plain": [
              "<class 'statsmodels.iolib.summary.Summary'>\n",
              "\"\"\"\n",
              "                                 OLS Regression Results                                \n",
              "=======================================================================================\n",
              "Dep. Variable:        Happiness Score   R-squared (uncentered):                   1.000\n",
              "Model:                            OLS   Adj. R-squared (uncentered):              1.000\n",
              "Method:                 Least Squares   F-statistic:                          2.086e+05\n",
              "Date:                Sun, 05 Feb 2023   Prob (F-statistic):                   2.53e-299\n",
              "Time:                        00:52:40   Log-Likelihood:                          242.64\n",
              "No. Observations:                 158   AIC:                                     -469.3\n",
              "Df Residuals:                     150   BIC:                                     -444.8\n",
              "Df Model:                           8                                                  \n",
              "Covariance Type:            nonrobust                                                  \n",
              "=================================================================================================\n",
              "                                    coef    std err          t      P>|t|      [0.025      0.975]\n",
              "-------------------------------------------------------------------------------------------------\n",
              "Standard Error                    1.8466      0.219      8.450      0.000       1.415       2.278\n",
              "Economy (GDP per Capita)          1.6154      0.036     45.202      0.000       1.545       1.686\n",
              "Family                            1.5179      0.029     52.086      0.000       1.460       1.576\n",
              "Health (Life Expectancy)          1.1446      0.031     37.121      0.000       1.084       1.206\n",
              "Freedom                           1.0431      0.037     27.972      0.000       0.969       1.117\n",
              "Trust (Government Corruption)     1.0294      0.043     24.168      0.000       0.945       1.114\n",
              "Generosity                        1.0937      0.037     29.185      0.000       1.020       1.168\n",
              "Dystopia Residual                 3.4018      0.024    143.360      0.000       3.355       3.449\n",
              "==============================================================================\n",
              "Omnibus:                        3.054   Durbin-Watson:                   0.976\n",
              "Prob(Omnibus):                  0.217   Jarque-Bera (JB):                2.607\n",
              "Skew:                          -0.237   Prob(JB):                        0.272\n",
              "Kurtosis:                       3.415   Cond. No.                         68.8\n",
              "==============================================================================\n",
              "\n",
              "Notes:\n",
              "[1] R² is computed without centering (uncentered) since the model does not contain a constant.\n",
              "[2] Standard Errors assume that the covariance matrix of the errors is correctly specified.\n",
              "\"\"\""
            ],
            "text/html": [
              "<table class=\"simpletable\">\n",
              "<caption>OLS Regression Results</caption>\n",
              "<tr>\n",
              "  <th>Dep. Variable:</th>     <td>Happiness Score</td> <th>  R-squared (uncentered):</th>      <td>   1.000</td> \n",
              "</tr>\n",
              "<tr>\n",
              "  <th>Model:</th>                   <td>OLS</td>       <th>  Adj. R-squared (uncentered):</th> <td>   1.000</td> \n",
              "</tr>\n",
              "<tr>\n",
              "  <th>Method:</th>             <td>Least Squares</td>  <th>  F-statistic:       </th>          <td>2.086e+05</td>\n",
              "</tr>\n",
              "<tr>\n",
              "  <th>Date:</th>             <td>Sun, 05 Feb 2023</td> <th>  Prob (F-statistic):</th>          <td>2.53e-299</td>\n",
              "</tr>\n",
              "<tr>\n",
              "  <th>Time:</th>                 <td>00:52:40</td>     <th>  Log-Likelihood:    </th>          <td>  242.64</td> \n",
              "</tr>\n",
              "<tr>\n",
              "  <th>No. Observations:</th>      <td>   158</td>      <th>  AIC:               </th>          <td>  -469.3</td> \n",
              "</tr>\n",
              "<tr>\n",
              "  <th>Df Residuals:</th>          <td>   150</td>      <th>  BIC:               </th>          <td>  -444.8</td> \n",
              "</tr>\n",
              "<tr>\n",
              "  <th>Df Model:</th>              <td>     8</td>      <th>                     </th>              <td> </td>    \n",
              "</tr>\n",
              "<tr>\n",
              "  <th>Covariance Type:</th>      <td>nonrobust</td>    <th>                     </th>              <td> </td>    \n",
              "</tr>\n",
              "</table>\n",
              "<table class=\"simpletable\">\n",
              "<tr>\n",
              "                <td></td>                   <th>coef</th>     <th>std err</th>      <th>t</th>      <th>P>|t|</th>  <th>[0.025</th>    <th>0.975]</th>  \n",
              "</tr>\n",
              "<tr>\n",
              "  <th>Standard Error</th>                <td>    1.8466</td> <td>    0.219</td> <td>    8.450</td> <td> 0.000</td> <td>    1.415</td> <td>    2.278</td>\n",
              "</tr>\n",
              "<tr>\n",
              "  <th>Economy (GDP per Capita)</th>      <td>    1.6154</td> <td>    0.036</td> <td>   45.202</td> <td> 0.000</td> <td>    1.545</td> <td>    1.686</td>\n",
              "</tr>\n",
              "<tr>\n",
              "  <th>Family</th>                        <td>    1.5179</td> <td>    0.029</td> <td>   52.086</td> <td> 0.000</td> <td>    1.460</td> <td>    1.576</td>\n",
              "</tr>\n",
              "<tr>\n",
              "  <th>Health (Life Expectancy)</th>      <td>    1.1446</td> <td>    0.031</td> <td>   37.121</td> <td> 0.000</td> <td>    1.084</td> <td>    1.206</td>\n",
              "</tr>\n",
              "<tr>\n",
              "  <th>Freedom</th>                       <td>    1.0431</td> <td>    0.037</td> <td>   27.972</td> <td> 0.000</td> <td>    0.969</td> <td>    1.117</td>\n",
              "</tr>\n",
              "<tr>\n",
              "  <th>Trust (Government Corruption)</th> <td>    1.0294</td> <td>    0.043</td> <td>   24.168</td> <td> 0.000</td> <td>    0.945</td> <td>    1.114</td>\n",
              "</tr>\n",
              "<tr>\n",
              "  <th>Generosity</th>                    <td>    1.0937</td> <td>    0.037</td> <td>   29.185</td> <td> 0.000</td> <td>    1.020</td> <td>    1.168</td>\n",
              "</tr>\n",
              "<tr>\n",
              "  <th>Dystopia Residual</th>             <td>    3.4018</td> <td>    0.024</td> <td>  143.360</td> <td> 0.000</td> <td>    3.355</td> <td>    3.449</td>\n",
              "</tr>\n",
              "</table>\n",
              "<table class=\"simpletable\">\n",
              "<tr>\n",
              "  <th>Omnibus:</th>       <td> 3.054</td> <th>  Durbin-Watson:     </th> <td>   0.976</td>\n",
              "</tr>\n",
              "<tr>\n",
              "  <th>Prob(Omnibus):</th> <td> 0.217</td> <th>  Jarque-Bera (JB):  </th> <td>   2.607</td>\n",
              "</tr>\n",
              "<tr>\n",
              "  <th>Skew:</th>          <td>-0.237</td> <th>  Prob(JB):          </th> <td>   0.272</td>\n",
              "</tr>\n",
              "<tr>\n",
              "  <th>Kurtosis:</th>      <td> 3.415</td> <th>  Cond. No.          </th> <td>    68.8</td>\n",
              "</tr>\n",
              "</table><br/><br/>Notes:<br/>[1] R² is computed without centering (uncentered) since the model does not contain a constant.<br/>[2] Standard Errors assume that the covariance matrix of the errors is correctly specified."
            ]
          },
          "metadata": {},
          "execution_count": 38
        }
      ]
    },
    {
      "cell_type": "markdown",
      "source": [
        "Observations:\n",
        "All predictor variables are significant.\n",
        " \n",
        "\n",
        "1.   Standard Error has a p-value of 0.0 which is lesser than 0.05 so it is a significant feature\n",
        "2.   Economy (GDP per Capita) has a p-value of 0.0 which is lesser than 0.05 so it is a significant feature\n",
        "3.   Family has a p-value of 0.0 which is lesser than 0.05 so it is a significant feature\n",
        "4.   Health (Life Expectancy) has a p-value of 0.0 which is lesser than 0.05 so it is a significant feature\n",
        "5.   Freedom has a p-value of 0.0 which is lesser than 0.05 so it is a significant feature\n",
        "6.   Trust (Government Corruption) has a p-value of 0.5 which is lesser than 0.05 so it is a significant feature\n",
        "7.   Generosity has a p-value of 0.0 which is lesser than 0.05 so it is a significant feature\n",
        "8.   Dystopia Residual has a p-value of 0.0 which is lesser than 0.05 so it is a significant feature\n",
        "\n",
        "\n",
        "\n",
        "\n",
        "\n",
        "\n",
        "\n",
        "\n"
      ],
      "metadata": {
        "id": "EqjFjSYI1coO"
      }
    },
    {
      "cell_type": "markdown",
      "source": [
        "Method 2 - Using Gradient Boosting Classifier Results"
      ],
      "metadata": {
        "id": "y6A0u_c-4lEq"
      }
    },
    {
      "cell_type": "code",
      "source": [
        "import numpy as np\n",
        "import matplotlib as mlt\n",
        "import seaborn as sns\n",
        "import matplotlib.pyplot as plt\n",
        "%matplotlib inline\n",
        "import pandas as pd\n",
        "import statsmodels.api as sd\n",
        "from sklearn import tree\n",
        "import sklearn.metrics as sm\n",
        "import warnings\n",
        "warnings.filterwarnings(\"ignore\")"
      ],
      "metadata": {
        "id": "U1VJrPyE6xcX"
      },
      "execution_count": 39,
      "outputs": []
    },
    {
      "cell_type": "code",
      "source": [
        "from sklearn.linear_model import LinearRegression\n",
        "\n",
        "# Linear Regression\n",
        "lr = LinearRegression()\n",
        "lr.fit(X_train, y_train)\n",
        "lr_pred = lr.predict(X_test)\n",
        "lr_score = lr.score(X_test, y_test)\n",
        "print('Linear Regression Score: ', lr_score)"
      ],
      "metadata": {
        "colab": {
          "base_uri": "https://localhost:8080/"
        },
        "id": "RvpqguRk2bYi",
        "outputId": "f287ed05-d976-4efe-a7e1-2c1649917243"
      },
      "execution_count": 40,
      "outputs": [
        {
          "output_type": "stream",
          "name": "stdout",
          "text": [
            "Linear Regression Score:  0.9999999323779599\n"
          ]
        }
      ]
    },
    {
      "cell_type": "code",
      "source": [
        "from sklearn import preprocessing\n",
        "from sklearn import utils\n",
        "\n",
        "#convert y values to categorical values\n",
        "lab = preprocessing.LabelEncoder()\n",
        "yn = lab.fit_transform(y)"
      ],
      "metadata": {
        "id": "h-MNQNv28Fnh"
      },
      "execution_count": 41,
      "outputs": []
    },
    {
      "cell_type": "code",
      "source": [
        "from sklearn.model_selection import  train_test_split\n",
        "\n",
        "#Spliting data into Training 80% and Test set 20%\n",
        "\n",
        "X_train, X_test, y_train, y_test = train_test_split(xdata, yn, test_size=0.2, random_state=1)"
      ],
      "metadata": {
        "id": "TK3eniCM8j8h"
      },
      "execution_count": 42,
      "outputs": []
    },
    {
      "cell_type": "code",
      "source": [
        "from sklearn import ensemble\n",
        "model_2=ensemble.GradientBoostingClassifier()\n",
        "model_2.fit(X_train,y_train)\n",
        "cols=X_train.columns\n",
        "plt.figure(figsize=(15, 7))\n",
        "plt.barh(cols,model_2.feature_importances_, color =\"#00b3b3\")\n",
        "plt.title('Feature Importance ', size=14)"
      ],
      "metadata": {
        "colab": {
          "base_uri": "https://localhost:8080/",
          "height": 462
        },
        "id": "vuXuaKR88kD-",
        "outputId": "29cef87e-0e5a-45ef-babc-27b02dac0f55"
      },
      "execution_count": 43,
      "outputs": [
        {
          "output_type": "execute_result",
          "data": {
            "text/plain": [
              "Text(0.5, 1.0, 'Feature Importance ')"
            ]
          },
          "metadata": {},
          "execution_count": 43
        },
        {
          "output_type": "display_data",
          "data": {
            "text/plain": [
              "<Figure size 1080x504 with 1 Axes>"
            ],
            "image/png": "[encoded data removed]"
          },
          "metadata": {
            "needs_background": "light"
          }
        }
      ]
    },
    {
      "cell_type": "markdown",
      "source": [
        "Observations:\n",
        "\n",
        "Using gradient boosting method also we get similar results as the with our numerical columns(Standard Error, Economy, Family, Health, Freedom, Trust(Government Corruption), Generosity, Dystopia Residual) having noticable significance."
      ],
      "metadata": {
        "id": "yDIHIoxn44j_"
      }
    },
    {
      "cell_type": "markdown",
      "source": [
        "Now, let's understand the important features in the dataset."
      ],
      "metadata": {
        "id": "EmEYEECf-QGy"
      }
    },
    {
      "cell_type": "code",
      "source": [
        "import eli5"
      ],
      "metadata": {
        "id": "pc2rOdeI8kII"
      },
      "execution_count": 44,
      "outputs": []
    },
    {
      "cell_type": "code",
      "source": [
        "#Understanding the important features \n",
        "!pip install eli5\n",
        "import eli5\n",
        "from eli5.sklearn import PermutationImportance\n",
        "perm = PermutationImportance(model_2, random_state=1).fit(X_test, y_test)\n",
        "eli5.show_weights(perm, feature_names = X_test.columns.tolist())"
      ],
      "metadata": {
        "colab": {
          "base_uri": "https://localhost:8080/",
          "height": 391
        },
        "id": "z459hZqrAQ2Y",
        "outputId": "a3467cfd-1b5c-4ccc-efd3-9adeb56bf60f"
      },
      "execution_count": 45,
      "outputs": [
        {
          "output_type": "stream",
          "name": "stdout",
          "text": [
            "Looking in indexes: https://pypi.org/simple, https://us-python.pkg.dev/colab-wheels/public/simple/\n",
            "Requirement already satisfied: eli5 in /usr/local/lib/python3.8/dist-packages (0.13.0)\n",
            "Requirement already satisfied: graphviz in /usr/local/lib/python3.8/dist-packages (from eli5) (0.10.1)\n",
            "Requirement already satisfied: jinja2>=3.0.0 in /usr/local/lib/python3.8/dist-packages (from eli5) (3.1.2)\n",
            "Requirement already satisfied: scikit-learn>=0.20 in /usr/local/lib/python3.8/dist-packages (from eli5) (1.0.2)\n",
            "Requirement already satisfied: numpy>=1.9.0 in /usr/local/lib/python3.8/dist-packages (from eli5) (1.21.6)\n",
            "Requirement already satisfied: attrs>17.1.0 in /usr/local/lib/python3.8/dist-packages (from eli5) (22.2.0)\n",
            "Requirement already satisfied: six in /usr/local/lib/python3.8/dist-packages (from eli5) (1.15.0)\n",
            "Requirement already satisfied: tabulate>=0.7.7 in /usr/local/lib/python3.8/dist-packages (from eli5) (0.8.10)\n",
            "Requirement already satisfied: scipy in /usr/local/lib/python3.8/dist-packages (from eli5) (1.7.3)\n",
            "Requirement already satisfied: MarkupSafe>=2.0 in /usr/local/lib/python3.8/dist-packages (from jinja2>=3.0.0->eli5) (2.0.1)\n",
            "Requirement already satisfied: joblib>=0.11 in /usr/local/lib/python3.8/dist-packages (from scikit-learn>=0.20->eli5) (1.2.0)\n",
            "Requirement already satisfied: threadpoolctl>=2.0.0 in /usr/local/lib/python3.8/dist-packages (from scikit-learn>=0.20->eli5) (3.1.0)\n"
          ]
        },
        {
          "output_type": "execute_result",
          "data": {
            "text/plain": [
              "<IPython.core.display.HTML object>"
            ],
            "text/html": [
              "\n",
              "    <style>\n",
              "    table.eli5-weights tr:hover {\n",
              "        filter: brightness(85%);\n",
              "    }\n",
              "</style>\n",
              "\n",
              "\n",
              "\n",
              "    \n",
              "\n",
              "    \n",
              "\n",
              "    \n",
              "\n",
              "    \n",
              "\n",
              "    \n",
              "\n",
              "    \n",
              "\n",
              "\n",
              "    \n",
              "\n",
              "    \n",
              "\n",
              "    \n",
              "\n",
              "    \n",
              "\n",
              "    \n",
              "\n",
              "    \n",
              "\n",
              "\n",
              "    \n",
              "\n",
              "    \n",
              "\n",
              "    \n",
              "\n",
              "    \n",
              "\n",
              "    \n",
              "        <table class=\"eli5-weights eli5-feature-importances\" style=\"border-collapse: collapse; border: none; margin-top: 0em; table-layout: auto;\">\n",
              "    <thead>\n",
              "    <tr style=\"border: none;\">\n",
              "        <th style=\"padding: 0 1em 0 0.5em; text-align: right; border: none;\">Weight</th>\n",
              "        <th style=\"padding: 0 0.5em 0 0.5em; text-align: left; border: none;\">Feature</th>\n",
              "    </tr>\n",
              "    </thead>\n",
              "    <tbody>\n",
              "    \n",
              "        <tr style=\"background-color: hsl(0, 100.00%, nan%); border: none;\">\n",
              "            <td style=\"padding: 0 1em 0 0.5em; text-align: right; border: none;\">\n",
              "                0\n",
              "                \n",
              "                    &plusmn; 0.0000\n",
              "                \n",
              "            </td>\n",
              "            <td style=\"padding: 0 0.5em 0 0.5em; text-align: left; border: none;\">\n",
              "                Dystopia Residual\n",
              "            </td>\n",
              "        </tr>\n",
              "    \n",
              "        <tr style=\"background-color: hsl(0, 100.00%, nan%); border: none;\">\n",
              "            <td style=\"padding: 0 1em 0 0.5em; text-align: right; border: none;\">\n",
              "                0\n",
              "                \n",
              "                    &plusmn; 0.0000\n",
              "                \n",
              "            </td>\n",
              "            <td style=\"padding: 0 0.5em 0 0.5em; text-align: left; border: none;\">\n",
              "                Generosity\n",
              "            </td>\n",
              "        </tr>\n",
              "    \n",
              "        <tr style=\"background-color: hsl(0, 100.00%, nan%); border: none;\">\n",
              "            <td style=\"padding: 0 1em 0 0.5em; text-align: right; border: none;\">\n",
              "                0\n",
              "                \n",
              "                    &plusmn; 0.0000\n",
              "                \n",
              "            </td>\n",
              "            <td style=\"padding: 0 0.5em 0 0.5em; text-align: left; border: none;\">\n",
              "                Trust (Government Corruption)\n",
              "            </td>\n",
              "        </tr>\n",
              "    \n",
              "        <tr style=\"background-color: hsl(0, 100.00%, nan%); border: none;\">\n",
              "            <td style=\"padding: 0 1em 0 0.5em; text-align: right; border: none;\">\n",
              "                0\n",
              "                \n",
              "                    &plusmn; 0.0000\n",
              "                \n",
              "            </td>\n",
              "            <td style=\"padding: 0 0.5em 0 0.5em; text-align: left; border: none;\">\n",
              "                Freedom\n",
              "            </td>\n",
              "        </tr>\n",
              "    \n",
              "        <tr style=\"background-color: hsl(0, 100.00%, nan%); border: none;\">\n",
              "            <td style=\"padding: 0 1em 0 0.5em; text-align: right; border: none;\">\n",
              "                0\n",
              "                \n",
              "                    &plusmn; 0.0000\n",
              "                \n",
              "            </td>\n",
              "            <td style=\"padding: 0 0.5em 0 0.5em; text-align: left; border: none;\">\n",
              "                Health (Life Expectancy)\n",
              "            </td>\n",
              "        </tr>\n",
              "    \n",
              "        <tr style=\"background-color: hsl(0, 100.00%, nan%); border: none;\">\n",
              "            <td style=\"padding: 0 1em 0 0.5em; text-align: right; border: none;\">\n",
              "                0\n",
              "                \n",
              "                    &plusmn; 0.0000\n",
              "                \n",
              "            </td>\n",
              "            <td style=\"padding: 0 0.5em 0 0.5em; text-align: left; border: none;\">\n",
              "                Family\n",
              "            </td>\n",
              "        </tr>\n",
              "    \n",
              "        <tr style=\"background-color: hsl(0, 100.00%, nan%); border: none;\">\n",
              "            <td style=\"padding: 0 1em 0 0.5em; text-align: right; border: none;\">\n",
              "                0\n",
              "                \n",
              "                    &plusmn; 0.0000\n",
              "                \n",
              "            </td>\n",
              "            <td style=\"padding: 0 0.5em 0 0.5em; text-align: left; border: none;\">\n",
              "                Economy (GDP per Capita)\n",
              "            </td>\n",
              "        </tr>\n",
              "    \n",
              "        <tr style=\"background-color: hsl(0, 100.00%, nan%); border: none;\">\n",
              "            <td style=\"padding: 0 1em 0 0.5em; text-align: right; border: none;\">\n",
              "                0\n",
              "                \n",
              "                    &plusmn; 0.0000\n",
              "                \n",
              "            </td>\n",
              "            <td style=\"padding: 0 0.5em 0 0.5em; text-align: left; border: none;\">\n",
              "                Standard Error\n",
              "            </td>\n",
              "        </tr>\n",
              "    \n",
              "    \n",
              "    </tbody>\n",
              "</table>\n",
              "    \n",
              "\n",
              "    \n",
              "\n",
              "\n",
              "    \n",
              "\n",
              "    \n",
              "\n",
              "    \n",
              "\n",
              "    \n",
              "\n",
              "    \n",
              "\n",
              "    \n",
              "\n",
              "\n",
              "\n"
            ]
          },
          "metadata": {},
          "execution_count": 45
        }
      ]
    },
    {
      "cell_type": "code",
      "source": [
        "x = xdata[ ['Standard Error','Economy (GDP per Capita)','Family', 'Health (Life Expectancy)', 'Freedom','Trust (Government Corruption)',\n",
        "       'Generosity', 'Dystopia Residual']]\n",
        "y = Data['Happiness Score']\n",
        "\n",
        "x_t, x_test, y_t, y_test = train_test_split(x, y, test_size=0.1, random_state=1)\n",
        "\n",
        "x_train, x_val, y_train, y_val = train_test_split(x_t, y_t, test_size=0.15, random_state=1)\n",
        "\n",
        "sc = StandardScaler()\n",
        "X_train = sc.fit_transform(X_train)\n",
        "X_test = sc.transform(X_test)"
      ],
      "metadata": {
        "id": "wF2Gdmzz9K7l"
      },
      "execution_count": 46,
      "outputs": []
    },
    {
      "cell_type": "code",
      "source": [
        "%pip install mlxtend --upgrade"
      ],
      "metadata": {
        "colab": {
          "base_uri": "https://localhost:8080/"
        },
        "id": "1Aw8TU2F303q",
        "outputId": "2c52335e-e956-4ffa-e002-15224c5dfdf7"
      },
      "execution_count": 47,
      "outputs": [
        {
          "output_type": "stream",
          "name": "stdout",
          "text": [
            "Looking in indexes: https://pypi.org/simple, https://us-python.pkg.dev/colab-wheels/public/simple/\n",
            "Requirement already satisfied: mlxtend in /usr/local/lib/python3.8/dist-packages (0.14.0)\n",
            "Collecting mlxtend\n",
            "  Downloading mlxtend-0.21.0-py2.py3-none-any.whl (1.3 MB)\n",
            "\u001b[2K     \u001b[90m━━━━━━━━━━━━━━━━━━━━━━━━━━━━━━━━━━━━━━━━\u001b[0m \u001b[32m1.3/1.3 MB\u001b[0m \u001b[31m13.4 MB/s\u001b[0m eta \u001b[36m0:00:00\u001b[0m\n",
            "\u001b[?25hRequirement already satisfied: matplotlib>=3.0.0 in /usr/local/lib/python3.8/dist-packages (from mlxtend) (3.2.2)\n",
            "Requirement already satisfied: numpy>=1.16.2 in /usr/local/lib/python3.8/dist-packages (from mlxtend) (1.21.6)\n",
            "Requirement already satisfied: scikit-learn>=1.0.2 in /usr/local/lib/python3.8/dist-packages (from mlxtend) (1.0.2)\n",
            "Requirement already satisfied: scipy>=1.2.1 in /usr/local/lib/python3.8/dist-packages (from mlxtend) (1.7.3)\n",
            "Requirement already satisfied: pandas>=0.24.2 in /usr/local/lib/python3.8/dist-packages (from mlxtend) (1.3.5)\n",
            "Requirement already satisfied: joblib>=0.13.2 in /usr/local/lib/python3.8/dist-packages (from mlxtend) (1.2.0)\n",
            "Requirement already satisfied: setuptools in /usr/local/lib/python3.8/dist-packages (from mlxtend) (57.4.0)\n",
            "Requirement already satisfied: pyparsing!=2.0.4,!=2.1.2,!=2.1.6,>=2.0.1 in /usr/local/lib/python3.8/dist-packages (from matplotlib>=3.0.0->mlxtend) (3.0.9)\n",
            "Requirement already satisfied: python-dateutil>=2.1 in /usr/local/lib/python3.8/dist-packages (from matplotlib>=3.0.0->mlxtend) (2.8.2)\n",
            "Requirement already satisfied: cycler>=0.10 in /usr/local/lib/python3.8/dist-packages (from matplotlib>=3.0.0->mlxtend) (0.11.0)\n",
            "Requirement already satisfied: kiwisolver>=1.0.1 in /usr/local/lib/python3.8/dist-packages (from matplotlib>=3.0.0->mlxtend) (1.4.4)\n",
            "Requirement already satisfied: pytz>=2017.3 in /usr/local/lib/python3.8/dist-packages (from pandas>=0.24.2->mlxtend) (2022.7.1)\n",
            "Requirement already satisfied: threadpoolctl>=2.0.0 in /usr/local/lib/python3.8/dist-packages (from scikit-learn>=1.0.2->mlxtend) (3.1.0)\n",
            "Requirement already satisfied: six>=1.5 in /usr/local/lib/python3.8/dist-packages (from python-dateutil>=2.1->matplotlib>=3.0.0->mlxtend) (1.15.0)\n",
            "Installing collected packages: mlxtend\n",
            "  Attempting uninstall: mlxtend\n",
            "    Found existing installation: mlxtend 0.14.0\n",
            "    Uninstalling mlxtend-0.14.0:\n",
            "      Successfully uninstalled mlxtend-0.14.0\n",
            "Successfully installed mlxtend-0.21.0\n"
          ]
        }
      ]
    },
    {
      "cell_type": "code",
      "source": [
        "from mlxtend.evaluate import bias_variance_decomp"
      ],
      "metadata": {
        "id": "DPb5w16U9Nd_"
      },
      "execution_count": 48,
      "outputs": []
    },
    {
      "cell_type": "code",
      "source": [
        "from mlxtend.evaluate import bias_variance_decomp\n",
        "from sklearn.metrics import r2_score, mean_squared_error \n",
        "from sklearn.linear_model import LinearRegression\n",
        "from sklearn import datasets, linear_model\n",
        "\n",
        "\n",
        "linear_regression = LinearRegression()\n",
        "linear_regression.fit(x_t, y_t)\n",
        "y_pred = linear_regression.predict(x_test)"
      ],
      "metadata": {
        "id": "wLjrK4PA-pC4"
      },
      "execution_count": 49,
      "outputs": []
    },
    {
      "cell_type": "code",
      "source": [
        "from sklearn.metrics import r2_score, mean_squared_error \n",
        "from sklearn.linear_model import LinearRegression\n",
        "from sklearn import datasets, linear_model\n",
        "# Create linear regression object\n",
        "regr = linear_model.LinearRegression()\n",
        "\n",
        "# Train the model using the training sets\n",
        "regr.fit(x_train,y_train)\n"
      ],
      "metadata": {
        "colab": {
          "base_uri": "https://localhost:8080/"
        },
        "id": "cs2AoRlJ-6jO",
        "outputId": "6f25d8fe-b714-455d-d99e-40ce116ba74e"
      },
      "execution_count": 50,
      "outputs": [
        {
          "output_type": "execute_result",
          "data": {
            "text/plain": [
              "LinearRegression()"
            ]
          },
          "metadata": {},
          "execution_count": 50
        }
      ]
    },
    {
      "cell_type": "code",
      "source": [
        "# Make predictions using the training set\n",
        "y_pred = regr.predict(x_train)\n",
        "# The mean squared error\n",
        "print('Mean squared error: %.2f'% mean_squared_error(y_train, y_pred))\n",
        "# The coefficient of determination: 1 is perfect prediction\n",
        "print('Coefficient of determination: %.2f'% r2_score(y_train, y_pred))\n",
        "r2 = r2_score(y_train,y_pred)\n",
        "print('R^2 score on tarining set =',r2)"
      ],
      "metadata": {
        "colab": {
          "base_uri": "https://localhost:8080/"
        },
        "id": "ycj-T3aa_Qlg",
        "outputId": "9d0103ce-23bf-4936-9705-f869d5b3d15f"
      },
      "execution_count": 51,
      "outputs": [
        {
          "output_type": "stream",
          "name": "stdout",
          "text": [
            "Mean squared error: 0.00\n",
            "Coefficient of determination: 1.00\n",
            "R^2 score on tarining set = 0.9999999515334573\n"
          ]
        }
      ]
    },
    {
      "cell_type": "code",
      "source": [
        "# Make predictions using the testing set\n",
        "y_pred = regr.predict(x_test)\n",
        "# The mean squared error\n",
        "print('Mean squared error: %.2f'% mean_squared_error(y_test, y_pred))\n",
        "# The coefficient of determination: 1 is perfect prediction\n",
        "print('Coefficient of determination: %.2f'% r2_score(y_test, y_pred))\n",
        "r2 = r2_score(y_test,y_pred)\n",
        "print('R^2 score on test set =',r2)"
      ],
      "metadata": {
        "colab": {
          "base_uri": "https://localhost:8080/"
        },
        "id": "YFoWbTsg_QpA",
        "outputId": "b38f5e22-898d-4d20-ee4d-b8be8a3c279d"
      },
      "execution_count": 52,
      "outputs": [
        {
          "output_type": "stream",
          "name": "stdout",
          "text": [
            "Mean squared error: 0.00\n",
            "Coefficient of determination: 1.00\n",
            "R^2 score on test set = 0.9999998821220464\n"
          ]
        }
      ]
    },
    {
      "cell_type": "code",
      "source": [
        "y_pred = regr.predict(x_val)\n",
        "\n",
        "# The mean squared error\n",
        "print('Mean squared error: %.2f'% mean_squared_error(y_val, y_pred))\n",
        "# The coefficient of determination: 1 is perfect prediction\n",
        "print('Coefficient of determination: %.2f'% r2_score(y_val, y_pred))\n",
        "r2_val = r2_score(y_val,y_pred)\n",
        "print('R^2 score on validation set =',r2_val)"
      ],
      "metadata": {
        "colab": {
          "base_uri": "https://localhost:8080/"
        },
        "id": "u8eCU6DF-6oE",
        "outputId": "5f0e29e2-ff96-41e3-faba-99dfac659567"
      },
      "execution_count": 53,
      "outputs": [
        {
          "output_type": "stream",
          "name": "stdout",
          "text": [
            "Mean squared error: 0.00\n",
            "Coefficient of determination: 1.00\n",
            "R^2 score on validation set = 0.9999998787628173\n"
          ]
        }
      ]
    },
    {
      "cell_type": "code",
      "source": [
        "import eli5\n",
        "from eli5.sklearn import PermutationImportance\n",
        "perm = PermutationImportance(regr, random_state=1).fit(x_test, y_test)\n",
        "eli5.show_weights(perm, feature_names = x_test.columns.tolist())"
      ],
      "metadata": {
        "colab": {
          "base_uri": "https://localhost:8080/",
          "height": 170
        },
        "id": "qaoF9cVs-6sN",
        "outputId": "8c98f50e-80b8-4184-d7fd-4b53f6084802"
      },
      "execution_count": 54,
      "outputs": [
        {
          "output_type": "execute_result",
          "data": {
            "text/plain": [
              "<IPython.core.display.HTML object>"
            ],
            "text/html": [
              "\n",
              "    <style>\n",
              "    table.eli5-weights tr:hover {\n",
              "        filter: brightness(85%);\n",
              "    }\n",
              "</style>\n",
              "\n",
              "\n",
              "\n",
              "    \n",
              "\n",
              "    \n",
              "\n",
              "    \n",
              "\n",
              "    \n",
              "\n",
              "    \n",
              "\n",
              "    \n",
              "\n",
              "\n",
              "    \n",
              "\n",
              "    \n",
              "\n",
              "    \n",
              "\n",
              "    \n",
              "\n",
              "    \n",
              "\n",
              "    \n",
              "\n",
              "\n",
              "    \n",
              "\n",
              "    \n",
              "\n",
              "    \n",
              "\n",
              "    \n",
              "\n",
              "    \n",
              "        <table class=\"eli5-weights eli5-feature-importances\" style=\"border-collapse: collapse; border: none; margin-top: 0em; table-layout: auto;\">\n",
              "    <thead>\n",
              "    <tr style=\"border: none;\">\n",
              "        <th style=\"padding: 0 1em 0 0.5em; text-align: right; border: none;\">Weight</th>\n",
              "        <th style=\"padding: 0 0.5em 0 0.5em; text-align: left; border: none;\">Feature</th>\n",
              "    </tr>\n",
              "    </thead>\n",
              "    <tbody>\n",
              "    \n",
              "        <tr style=\"background-color: hsl(120, 100.00%, 80.00%); border: none;\">\n",
              "            <td style=\"padding: 0 1em 0 0.5em; text-align: right; border: none;\">\n",
              "                0.3994\n",
              "                \n",
              "                    &plusmn; 0.0841\n",
              "                \n",
              "            </td>\n",
              "            <td style=\"padding: 0 0.5em 0 0.5em; text-align: left; border: none;\">\n",
              "                Dystopia Residual\n",
              "            </td>\n",
              "        </tr>\n",
              "    \n",
              "        <tr style=\"background-color: hsl(120, 100.00%, 85.74%); border: none;\">\n",
              "            <td style=\"padding: 0 1em 0 0.5em; text-align: right; border: none;\">\n",
              "                0.2462\n",
              "                \n",
              "                    &plusmn; 0.1478\n",
              "                \n",
              "            </td>\n",
              "            <td style=\"padding: 0 0.5em 0 0.5em; text-align: left; border: none;\">\n",
              "                Economy (GDP per Capita)\n",
              "            </td>\n",
              "        </tr>\n",
              "    \n",
              "        <tr style=\"background-color: hsl(120, 100.00%, 92.74%); border: none;\">\n",
              "            <td style=\"padding: 0 1em 0 0.5em; text-align: right; border: none;\">\n",
              "                0.0939\n",
              "                \n",
              "                    &plusmn; 0.0297\n",
              "                \n",
              "            </td>\n",
              "            <td style=\"padding: 0 0.5em 0 0.5em; text-align: left; border: none;\">\n",
              "                Family\n",
              "            </td>\n",
              "        </tr>\n",
              "    \n",
              "        <tr style=\"background-color: hsl(120, 100.00%, 92.86%); border: none;\">\n",
              "            <td style=\"padding: 0 1em 0 0.5em; text-align: right; border: none;\">\n",
              "                0.0917\n",
              "                \n",
              "                    &plusmn; 0.0230\n",
              "                \n",
              "            </td>\n",
              "            <td style=\"padding: 0 0.5em 0 0.5em; text-align: left; border: none;\">\n",
              "                Health (Life Expectancy)\n",
              "            </td>\n",
              "        </tr>\n",
              "    \n",
              "        <tr style=\"background-color: hsl(120, 100.00%, 95.83%); border: none;\">\n",
              "            <td style=\"padding: 0 1em 0 0.5em; text-align: right; border: none;\">\n",
              "                0.0425\n",
              "                \n",
              "                    &plusmn; 0.0195\n",
              "                \n",
              "            </td>\n",
              "            <td style=\"padding: 0 0.5em 0 0.5em; text-align: left; border: none;\">\n",
              "                Freedom\n",
              "            </td>\n",
              "        </tr>\n",
              "    \n",
              "        <tr style=\"background-color: hsl(120, 100.00%, 96.65%); border: none;\">\n",
              "            <td style=\"padding: 0 1em 0 0.5em; text-align: right; border: none;\">\n",
              "                0.0310\n",
              "                \n",
              "                    &plusmn; 0.0169\n",
              "                \n",
              "            </td>\n",
              "            <td style=\"padding: 0 0.5em 0 0.5em; text-align: left; border: none;\">\n",
              "                Generosity\n",
              "            </td>\n",
              "        </tr>\n",
              "    \n",
              "        <tr style=\"background-color: hsl(120, 100.00%, 97.56%); border: none;\">\n",
              "            <td style=\"padding: 0 1em 0 0.5em; text-align: right; border: none;\">\n",
              "                0.0198\n",
              "                \n",
              "                    &plusmn; 0.0112\n",
              "                \n",
              "            </td>\n",
              "            <td style=\"padding: 0 0.5em 0 0.5em; text-align: left; border: none;\">\n",
              "                Trust (Government Corruption)\n",
              "            </td>\n",
              "        </tr>\n",
              "    \n",
              "        <tr style=\"background-color: hsl(0, 100.00%, 100.00%); border: none;\">\n",
              "            <td style=\"padding: 0 1em 0 0.5em; text-align: right; border: none;\">\n",
              "                -0.0000\n",
              "                \n",
              "                    &plusmn; 0.0000\n",
              "                \n",
              "            </td>\n",
              "            <td style=\"padding: 0 0.5em 0 0.5em; text-align: left; border: none;\">\n",
              "                Standard Error\n",
              "            </td>\n",
              "        </tr>\n",
              "    \n",
              "    \n",
              "    </tbody>\n",
              "</table>\n",
              "    \n",
              "\n",
              "    \n",
              "\n",
              "\n",
              "    \n",
              "\n",
              "    \n",
              "\n",
              "    \n",
              "\n",
              "    \n",
              "\n",
              "    \n",
              "\n",
              "    \n",
              "\n",
              "\n",
              "\n"
            ]
          },
          "metadata": {},
          "execution_count": 54
        }
      ]
    },
    {
      "cell_type": "markdown",
      "source": [
        "Observations:\n",
        "\n",
        "1.   From the graph we can see that Dystopia Residual, Economy (GDP per Capita) and Family appear to be the most significant features.\n",
        "2.   All other variables are more or less at significanct level, slightly low as compared to Dystopia Residual, Economy (GDP per Capita) and Family.\n",
        "\n",
        "\n"
      ],
      "metadata": {
        "id": "J7oUFhnrP-vc"
      }
    },
    {
      "cell_type": "code",
      "source": [
        "num_cols=['Happiness Rank','Happiness Score','Economy (GDP per Capita)', 'Family','Health (Life Expectancy)','Dystopia Residual']\n",
        "feature_to_scale = num_cols\n",
        "min_max_scaler = preprocessing.MinMaxScaler()\n",
        "data_total[feature_to_scale] = min_max_scaler.fit_transform(data_total[feature_to_scale])\n",
        "data_total.head()"
      ],
      "metadata": {
        "colab": {
          "base_uri": "https://localhost:8080/",
          "height": 350
        },
        "id": "onCwFQR-GYVc",
        "outputId": "25702e73-2bbc-4664-e593-5912845ed302"
      },
      "execution_count": 55,
      "outputs": [
        {
          "output_type": "execute_result",
          "data": {
            "text/plain": [
              "       Country          Region  Happiness Rank  Happiness Score  \\\n",
              "0  Switzerland  Western Europe        0.000000         1.000000   \n",
              "1      Iceland  Western Europe        0.006369         0.994524   \n",
              "2      Denmark  Western Europe        0.012739         0.987363   \n",
              "3       Norway  Western Europe        0.019108         0.986310   \n",
              "4       Canada   North America        0.025478         0.966302   \n",
              "\n",
              "   Standard Error  Economy (GDP per Capita)    Family  \\\n",
              "0         0.03411                  0.826132  0.962403   \n",
              "1         0.04884                  0.770412  1.000000   \n",
              "2         0.03328                  0.784113  0.970297   \n",
              "3         0.03880                  0.863099  0.949167   \n",
              "4         0.03553                  0.784592  0.943219   \n",
              "\n",
              "   Health (Life Expectancy)  Freedom  Trust (Government Corruption)  \\\n",
              "0                  0.918244  0.66557                        0.41978   \n",
              "1                  0.924496  0.62877                        0.14145   \n",
              "2                  0.853099  0.64938                        0.48357   \n",
              "3                  0.863409  0.66973                        0.36503   \n",
              "4                  0.883326  0.63297                        0.32957   \n",
              "\n",
              "   Generosity  Dystopia Residual  \n",
              "0     0.29678           0.668630  \n",
              "1     0.43630           0.725030  \n",
              "2     0.34139           0.660889  \n",
              "3     0.34699           0.652724  \n",
              "4     0.45811           0.648584  "
            ],
            "text/html": [
              "\n",
              "  <div id=\"df-32a70655-da91-490e-a6ff-2eb4dd5d2665\">\n",
              "    <div class=\"colab-df-container\">\n",
              "      <div>\n",
              "<style scoped>\n",
              "    .dataframe tbody tr th:only-of-type {\n",
              "        vertical-align: middle;\n",
              "    }\n",
              "\n",
              "    .dataframe tbody tr th {\n",
              "        vertical-align: top;\n",
              "    }\n",
              "\n",
              "    .dataframe thead th {\n",
              "        text-align: right;\n",
              "    }\n",
              "</style>\n",
              "<table border=\"1\" class=\"dataframe\">\n",
              "  <thead>\n",
              "    <tr style=\"text-align: right;\">\n",
              "      <th></th>\n",
              "      <th>Country</th>\n",
              "      <th>Region</th>\n",
              "      <th>Happiness Rank</th>\n",
              "      <th>Happiness Score</th>\n",
              "      <th>Standard Error</th>\n",
              "      <th>Economy (GDP per Capita)</th>\n",
              "      <th>Family</th>\n",
              "      <th>Health (Life Expectancy)</th>\n",
              "      <th>Freedom</th>\n",
              "      <th>Trust (Government Corruption)</th>\n",
              "      <th>Generosity</th>\n",
              "      <th>Dystopia Residual</th>\n",
              "    </tr>\n",
              "  </thead>\n",
              "  <tbody>\n",
              "    <tr>\n",
              "      <th>0</th>\n",
              "      <td>Switzerland</td>\n",
              "      <td>Western Europe</td>\n",
              "      <td>0.000000</td>\n",
              "      <td>1.000000</td>\n",
              "      <td>0.03411</td>\n",
              "      <td>0.826132</td>\n",
              "      <td>0.962403</td>\n",
              "      <td>0.918244</td>\n",
              "      <td>0.66557</td>\n",
              "      <td>0.41978</td>\n",
              "      <td>0.29678</td>\n",
              "      <td>0.668630</td>\n",
              "    </tr>\n",
              "    <tr>\n",
              "      <th>1</th>\n",
              "      <td>Iceland</td>\n",
              "      <td>Western Europe</td>\n",
              "      <td>0.006369</td>\n",
              "      <td>0.994524</td>\n",
              "      <td>0.04884</td>\n",
              "      <td>0.770412</td>\n",
              "      <td>1.000000</td>\n",
              "      <td>0.924496</td>\n",
              "      <td>0.62877</td>\n",
              "      <td>0.14145</td>\n",
              "      <td>0.43630</td>\n",
              "      <td>0.725030</td>\n",
              "    </tr>\n",
              "    <tr>\n",
              "      <th>2</th>\n",
              "      <td>Denmark</td>\n",
              "      <td>Western Europe</td>\n",
              "      <td>0.012739</td>\n",
              "      <td>0.987363</td>\n",
              "      <td>0.03328</td>\n",
              "      <td>0.784113</td>\n",
              "      <td>0.970297</td>\n",
              "      <td>0.853099</td>\n",
              "      <td>0.64938</td>\n",
              "      <td>0.48357</td>\n",
              "      <td>0.34139</td>\n",
              "      <td>0.660889</td>\n",
              "    </tr>\n",
              "    <tr>\n",
              "      <th>3</th>\n",
              "      <td>Norway</td>\n",
              "      <td>Western Europe</td>\n",
              "      <td>0.019108</td>\n",
              "      <td>0.986310</td>\n",
              "      <td>0.03880</td>\n",
              "      <td>0.863099</td>\n",
              "      <td>0.949167</td>\n",
              "      <td>0.863409</td>\n",
              "      <td>0.66973</td>\n",
              "      <td>0.36503</td>\n",
              "      <td>0.34699</td>\n",
              "      <td>0.652724</td>\n",
              "    </tr>\n",
              "    <tr>\n",
              "      <th>4</th>\n",
              "      <td>Canada</td>\n",
              "      <td>North America</td>\n",
              "      <td>0.025478</td>\n",
              "      <td>0.966302</td>\n",
              "      <td>0.03553</td>\n",
              "      <td>0.784592</td>\n",
              "      <td>0.943219</td>\n",
              "      <td>0.883326</td>\n",
              "      <td>0.63297</td>\n",
              "      <td>0.32957</td>\n",
              "      <td>0.45811</td>\n",
              "      <td>0.648584</td>\n",
              "    </tr>\n",
              "  </tbody>\n",
              "</table>\n",
              "</div>\n",
              "      <button class=\"colab-df-convert\" onclick=\"convertToInteractive('df-32a70655-da91-490e-a6ff-2eb4dd5d2665')\"\n",
              "              title=\"Convert this dataframe to an interactive table.\"\n",
              "              style=\"display:none;\">\n",
              "        \n",
              "  <svg xmlns=\"http://www.w3.org/2000/svg\" height=\"24px\"viewBox=\"0 0 24 24\"\n",
              "       width=\"24px\">\n",
              "    <path d=\"M0 0h24v24H0V0z\" fill=\"none\"/>\n",
              "    <path d=\"M18.56 5.44l.94 2.06.94-2.06 2.06-.94-2.06-.94-.94-2.06-.94 2.06-2.06.94zm-11 1L8.5 8.5l.94-2.06 2.06-.94-2.06-.94L8.5 2.5l-.94 2.06-2.06.94zm10 10l.94 2.06.94-2.06 2.06-.94-2.06-.94-.94-2.06-.94 2.06-2.06.94z\"/><path d=\"M17.41 7.96l-1.37-1.37c-.4-.4-.92-.59-1.43-.59-.52 0-1.04.2-1.43.59L10.3 9.45l-7.72 7.72c-.78.78-.78 2.05 0 2.83L4 21.41c.39.39.9.59 1.41.59.51 0 1.02-.2 1.41-.59l7.78-7.78 2.81-2.81c.8-.78.8-2.07 0-2.86zM5.41 20L4 18.59l7.72-7.72 1.47 1.35L5.41 20z\"/>\n",
              "  </svg>\n",
              "      </button>\n",
              "      \n",
              "  <style>\n",
              "    .colab-df-container {\n",
              "      display:flex;\n",
              "      flex-wrap:wrap;\n",
              "      gap: 12px;\n",
              "    }\n",
              "\n",
              "    .colab-df-convert {\n",
              "      background-color: #E8F0FE;\n",
              "      border: none;\n",
              "      border-radius: 50%;\n",
              "      cursor: pointer;\n",
              "      display: none;\n",
              "      fill: #1967D2;\n",
              "      height: 32px;\n",
              "      padding: 0 0 0 0;\n",
              "      width: 32px;\n",
              "    }\n",
              "\n",
              "    .colab-df-convert:hover {\n",
              "      background-color: #E2EBFA;\n",
              "      box-shadow: 0px 1px 2px rgba(60, 64, 67, 0.3), 0px 1px 3px 1px rgba(60, 64, 67, 0.15);\n",
              "      fill: #174EA6;\n",
              "    }\n",
              "\n",
              "    [theme=dark] .colab-df-convert {\n",
              "      background-color: #3B4455;\n",
              "      fill: #D2E3FC;\n",
              "    }\n",
              "\n",
              "    [theme=dark] .colab-df-convert:hover {\n",
              "      background-color: #434B5C;\n",
              "      box-shadow: 0px 1px 3px 1px rgba(0, 0, 0, 0.15);\n",
              "      filter: drop-shadow(0px 1px 2px rgba(0, 0, 0, 0.3));\n",
              "      fill: #FFFFFF;\n",
              "    }\n",
              "  </style>\n",
              "\n",
              "      <script>\n",
              "        const buttonEl =\n",
              "          document.querySelector('#df-32a70655-da91-490e-a6ff-2eb4dd5d2665 button.colab-df-convert');\n",
              "        buttonEl.style.display =\n",
              "          google.colab.kernel.accessAllowed ? 'block' : 'none';\n",
              "\n",
              "        async function convertToInteractive(key) {\n",
              "          const element = document.querySelector('#df-32a70655-da91-490e-a6ff-2eb4dd5d2665');\n",
              "          const dataTable =\n",
              "            await google.colab.kernel.invokeFunction('convertToInteractive',\n",
              "                                                     [key], {});\n",
              "          if (!dataTable) return;\n",
              "\n",
              "          const docLinkHtml = 'Like what you see? Visit the ' +\n",
              "            '<a target=\"_blank\" href=https://colab.research.google.com/notebooks/data_table.ipynb>data table notebook</a>'\n",
              "            + ' to learn more about interactive tables.';\n",
              "          element.innerHTML = '';\n",
              "          dataTable['output_type'] = 'display_data';\n",
              "          await google.colab.output.renderOutput(dataTable, element);\n",
              "          const docLink = document.createElement('div');\n",
              "          docLink.innerHTML = docLinkHtml;\n",
              "          element.appendChild(docLink);\n",
              "        }\n",
              "      </script>\n",
              "    </div>\n",
              "  </div>\n",
              "  "
            ]
          },
          "metadata": {},
          "execution_count": 55
        }
      ]
    },
    {
      "cell_type": "code",
      "source": [
        "df = pd.DataFrame(data_total)"
      ],
      "metadata": {
        "id": "j1tvJQSOHbJ7"
      },
      "execution_count": 75,
      "outputs": []
    },
    {
      "cell_type": "code",
      "source": [
        "df = pd.DataFrame(data_total)"
      ],
      "metadata": {
        "id": "1_KNQmhHHzWK"
      },
      "execution_count": 57,
      "outputs": []
    },
    {
      "cell_type": "code",
      "source": [
        "df.info()"
      ],
      "metadata": {
        "colab": {
          "base_uri": "https://localhost:8080/"
        },
        "id": "xwwl-WpgFSxs",
        "outputId": "bb1f614b-fb8e-4ac1-8d6f-802bf77f0682"
      },
      "execution_count": 59,
      "outputs": [
        {
          "output_type": "stream",
          "name": "stdout",
          "text": [
            "<class 'pandas.core.frame.DataFrame'>\n",
            "RangeIndex: 158 entries, 0 to 157\n",
            "Data columns (total 12 columns):\n",
            " #   Column                         Non-Null Count  Dtype  \n",
            "---  ------                         --------------  -----  \n",
            " 0   Country                        158 non-null    object \n",
            " 1   Region                         158 non-null    object \n",
            " 2   Happiness Rank                 158 non-null    float64\n",
            " 3   Happiness Score                158 non-null    float64\n",
            " 4   Standard Error                 158 non-null    float64\n",
            " 5   Economy (GDP per Capita)       158 non-null    float64\n",
            " 6   Family                         158 non-null    float64\n",
            " 7   Health (Life Expectancy)       158 non-null    float64\n",
            " 8   Freedom                        158 non-null    float64\n",
            " 9   Trust (Government Corruption)  158 non-null    float64\n",
            " 10  Generosity                     158 non-null    float64\n",
            " 11  Dystopia Residual              158 non-null    float64\n",
            "dtypes: float64(10), object(2)\n",
            "memory usage: 14.9+ KB\n"
          ]
        }
      ]
    },
    {
      "cell_type": "markdown",
      "source": [
        "# Q10 Remove 1%, 5%, and 10% of your data randomly and impute the values back using at least 3 imputation methods. How well did the methods recover the missing values?  That is remove some data, check the % error on residuals for numeric data and check for bias and variance of the error."
      ],
      "metadata": {
        "id": "J-B2IiIPGwJl"
      }
    },
    {
      "cell_type": "code",
      "source": [
        "# remove 1% data randomly \n",
        "df_part_1per = df[['Happiness Rank', 'Happiness Score', 'Standard Error', 'Economy (GDP per Capita)', 'Family','Health (Life Expectancy)', 'Freedom','Trust (Government Corruption)','Generosity','Dystopia Residual']];\n",
        "col_list = ['Happiness Rank', 'Happiness Score', 'Standard Error', 'Economy (GDP per Capita)', 'Family','Health (Life Expectancy)', 'Freedom','Trust (Government Corruption)','Generosity','Dystopia Residual']\n",
        "for col in col_list:\n",
        "    df_part_1per.loc[df_part_1per.sample(frac=0.01).index, col] = pd.np.nan\n",
        "    \n"
      ],
      "metadata": {
        "id": "Mzo3auAHElDx"
      },
      "execution_count": 60,
      "outputs": []
    },
    {
      "cell_type": "code",
      "source": [
        "df.head()"
      ],
      "metadata": {
        "colab": {
          "base_uri": "https://localhost:8080/",
          "height": 204
        },
        "id": "wmCyOE1zWFOv",
        "outputId": "2749f980-68ce-4935-8dd7-78fa41e9a5af"
      },
      "execution_count": 99,
      "outputs": [
        {
          "output_type": "execute_result",
          "data": {
            "text/plain": [
              "    Standard Error  Economy (GDP per Capita)    Family  \\\n",
              "12         0.03751                  0.791064  0.924984   \n",
              "14         0.03839                  0.824949  0.889376   \n",
              "18         0.03595                  0.773666  0.916868   \n",
              "21         0.05335                  0.804599  0.771500   \n",
              "24         0.04910                  0.629151  0.854710   \n",
              "\n",
              "    Health (Life Expectancy)  Freedom  Trust (Government Corruption)  \\\n",
              "12                  0.868491  0.62433                        0.18676   \n",
              "14                  0.840566  0.54604                        0.15890   \n",
              "18                  0.874587  0.58450                        0.22540   \n",
              "21                  0.743975  0.63274                        0.32524   \n",
              "24                  0.776991  0.54210                        0.09270   \n",
              "\n",
              "    Generosity  Dystopia Residual  \n",
              "12     0.33088           0.673463  \n",
              "14     0.40105           0.666409  \n",
              "18     0.22250           0.637306  \n",
              "21     0.21542           0.655650  \n",
              "24     0.24434           0.769774  "
            ],
            "text/html": [
              "\n",
              "  <div id=\"df-057ab4dd-a564-4b34-a706-8cb21d2e672c\">\n",
              "    <div class=\"colab-df-container\">\n",
              "      <div>\n",
              "<style scoped>\n",
              "    .dataframe tbody tr th:only-of-type {\n",
              "        vertical-align: middle;\n",
              "    }\n",
              "\n",
              "    .dataframe tbody tr th {\n",
              "        vertical-align: top;\n",
              "    }\n",
              "\n",
              "    .dataframe thead th {\n",
              "        text-align: right;\n",
              "    }\n",
              "</style>\n",
              "<table border=\"1\" class=\"dataframe\">\n",
              "  <thead>\n",
              "    <tr style=\"text-align: right;\">\n",
              "      <th></th>\n",
              "      <th>Standard Error</th>\n",
              "      <th>Economy (GDP per Capita)</th>\n",
              "      <th>Family</th>\n",
              "      <th>Health (Life Expectancy)</th>\n",
              "      <th>Freedom</th>\n",
              "      <th>Trust (Government Corruption)</th>\n",
              "      <th>Generosity</th>\n",
              "      <th>Dystopia Residual</th>\n",
              "    </tr>\n",
              "  </thead>\n",
              "  <tbody>\n",
              "    <tr>\n",
              "      <th>12</th>\n",
              "      <td>0.03751</td>\n",
              "      <td>0.791064</td>\n",
              "      <td>0.924984</td>\n",
              "      <td>0.868491</td>\n",
              "      <td>0.62433</td>\n",
              "      <td>0.18676</td>\n",
              "      <td>0.33088</td>\n",
              "      <td>0.673463</td>\n",
              "    </tr>\n",
              "    <tr>\n",
              "      <th>14</th>\n",
              "      <td>0.03839</td>\n",
              "      <td>0.824949</td>\n",
              "      <td>0.889376</td>\n",
              "      <td>0.840566</td>\n",
              "      <td>0.54604</td>\n",
              "      <td>0.15890</td>\n",
              "      <td>0.40105</td>\n",
              "      <td>0.666409</td>\n",
              "    </tr>\n",
              "    <tr>\n",
              "      <th>18</th>\n",
              "      <td>0.03595</td>\n",
              "      <td>0.773666</td>\n",
              "      <td>0.916868</td>\n",
              "      <td>0.874587</td>\n",
              "      <td>0.58450</td>\n",
              "      <td>0.22540</td>\n",
              "      <td>0.22250</td>\n",
              "      <td>0.637306</td>\n",
              "    </tr>\n",
              "    <tr>\n",
              "      <th>21</th>\n",
              "      <td>0.05335</td>\n",
              "      <td>0.804599</td>\n",
              "      <td>0.771500</td>\n",
              "      <td>0.743975</td>\n",
              "      <td>0.63274</td>\n",
              "      <td>0.32524</td>\n",
              "      <td>0.21542</td>\n",
              "      <td>0.655650</td>\n",
              "    </tr>\n",
              "    <tr>\n",
              "      <th>24</th>\n",
              "      <td>0.04910</td>\n",
              "      <td>0.629151</td>\n",
              "      <td>0.854710</td>\n",
              "      <td>0.776991</td>\n",
              "      <td>0.54210</td>\n",
              "      <td>0.09270</td>\n",
              "      <td>0.24434</td>\n",
              "      <td>0.769774</td>\n",
              "    </tr>\n",
              "  </tbody>\n",
              "</table>\n",
              "</div>\n",
              "      <button class=\"colab-df-convert\" onclick=\"convertToInteractive('df-057ab4dd-a564-4b34-a706-8cb21d2e672c')\"\n",
              "              title=\"Convert this dataframe to an interactive table.\"\n",
              "              style=\"display:none;\">\n",
              "        \n",
              "  <svg xmlns=\"http://www.w3.org/2000/svg\" height=\"24px\"viewBox=\"0 0 24 24\"\n",
              "       width=\"24px\">\n",
              "    <path d=\"M0 0h24v24H0V0z\" fill=\"none\"/>\n",
              "    <path d=\"M18.56 5.44l.94 2.06.94-2.06 2.06-.94-2.06-.94-.94-2.06-.94 2.06-2.06.94zm-11 1L8.5 8.5l.94-2.06 2.06-.94-2.06-.94L8.5 2.5l-.94 2.06-2.06.94zm10 10l.94 2.06.94-2.06 2.06-.94-2.06-.94-.94-2.06-.94 2.06-2.06.94z\"/><path d=\"M17.41 7.96l-1.37-1.37c-.4-.4-.92-.59-1.43-.59-.52 0-1.04.2-1.43.59L10.3 9.45l-7.72 7.72c-.78.78-.78 2.05 0 2.83L4 21.41c.39.39.9.59 1.41.59.51 0 1.02-.2 1.41-.59l7.78-7.78 2.81-2.81c.8-.78.8-2.07 0-2.86zM5.41 20L4 18.59l7.72-7.72 1.47 1.35L5.41 20z\"/>\n",
              "  </svg>\n",
              "      </button>\n",
              "      \n",
              "  <style>\n",
              "    .colab-df-container {\n",
              "      display:flex;\n",
              "      flex-wrap:wrap;\n",
              "      gap: 12px;\n",
              "    }\n",
              "\n",
              "    .colab-df-convert {\n",
              "      background-color: #E8F0FE;\n",
              "      border: none;\n",
              "      border-radius: 50%;\n",
              "      cursor: pointer;\n",
              "      display: none;\n",
              "      fill: #1967D2;\n",
              "      height: 32px;\n",
              "      padding: 0 0 0 0;\n",
              "      width: 32px;\n",
              "    }\n",
              "\n",
              "    .colab-df-convert:hover {\n",
              "      background-color: #E2EBFA;\n",
              "      box-shadow: 0px 1px 2px rgba(60, 64, 67, 0.3), 0px 1px 3px 1px rgba(60, 64, 67, 0.15);\n",
              "      fill: #174EA6;\n",
              "    }\n",
              "\n",
              "    [theme=dark] .colab-df-convert {\n",
              "      background-color: #3B4455;\n",
              "      fill: #D2E3FC;\n",
              "    }\n",
              "\n",
              "    [theme=dark] .colab-df-convert:hover {\n",
              "      background-color: #434B5C;\n",
              "      box-shadow: 0px 1px 3px 1px rgba(0, 0, 0, 0.15);\n",
              "      filter: drop-shadow(0px 1px 2px rgba(0, 0, 0, 0.3));\n",
              "      fill: #FFFFFF;\n",
              "    }\n",
              "  </style>\n",
              "\n",
              "      <script>\n",
              "        const buttonEl =\n",
              "          document.querySelector('#df-057ab4dd-a564-4b34-a706-8cb21d2e672c button.colab-df-convert');\n",
              "        buttonEl.style.display =\n",
              "          google.colab.kernel.accessAllowed ? 'block' : 'none';\n",
              "\n",
              "        async function convertToInteractive(key) {\n",
              "          const element = document.querySelector('#df-057ab4dd-a564-4b34-a706-8cb21d2e672c');\n",
              "          const dataTable =\n",
              "            await google.colab.kernel.invokeFunction('convertToInteractive',\n",
              "                                                     [key], {});\n",
              "          if (!dataTable) return;\n",
              "\n",
              "          const docLinkHtml = 'Like what you see? Visit the ' +\n",
              "            '<a target=\"_blank\" href=https://colab.research.google.com/notebooks/data_table.ipynb>data table notebook</a>'\n",
              "            + ' to learn more about interactive tables.';\n",
              "          element.innerHTML = '';\n",
              "          dataTable['output_type'] = 'display_data';\n",
              "          await google.colab.output.renderOutput(dataTable, element);\n",
              "          const docLink = document.createElement('div');\n",
              "          docLink.innerHTML = docLinkHtml;\n",
              "          element.appendChild(docLink);\n",
              "        }\n",
              "      </script>\n",
              "    </div>\n",
              "  </div>\n",
              "  "
            ]
          },
          "metadata": {},
          "execution_count": 99
        }
      ]
    },
    {
      "cell_type": "code",
      "source": [
        "df_part_1per.isnull().sum()"
      ],
      "metadata": {
        "colab": {
          "base_uri": "https://localhost:8080/"
        },
        "id": "OHsHeSpTF97M",
        "outputId": "573584ce-6c68-41ac-dc51-e7cf5f1a0bce"
      },
      "execution_count": 64,
      "outputs": [
        {
          "output_type": "execute_result",
          "data": {
            "text/plain": [
              "Happiness Rank                   2\n",
              "Happiness Score                  2\n",
              "Standard Error                   2\n",
              "Economy (GDP per Capita)         2\n",
              "Family                           2\n",
              "Health (Life Expectancy)         2\n",
              "Freedom                          2\n",
              "Trust (Government Corruption)    2\n",
              "Generosity                       2\n",
              "Dystopia Residual                2\n",
              "dtype: int64"
            ]
          },
          "metadata": {},
          "execution_count": 64
        }
      ]
    },
    {
      "cell_type": "code",
      "source": [
        "# remove 5% data randomly \n",
        "df_part_5per = df[['Happiness Rank', 'Happiness Score', 'Standard Error', 'Economy (GDP per Capita)', 'Family','Health (Life Expectancy)', 'Freedom','Trust (Government Corruption)','Generosity','Dystopia Residual']];\n",
        "for col in col_list:\n",
        "    df_part_5per.loc[df_part_5per.sample(frac=0.05).index, col] = pd.np.nan\n",
        "\n"
      ],
      "metadata": {
        "id": "Q39JwpWPF8mC"
      },
      "execution_count": 65,
      "outputs": []
    },
    {
      "cell_type": "code",
      "source": [
        "df_part_5per.isnull().sum()"
      ],
      "metadata": {
        "colab": {
          "base_uri": "https://localhost:8080/"
        },
        "id": "1tDxW33fGgS_",
        "outputId": "47e0d7c9-3c99-44ce-f557-4f47fbf915b8"
      },
      "execution_count": 66,
      "outputs": [
        {
          "output_type": "execute_result",
          "data": {
            "text/plain": [
              "Happiness Rank                   8\n",
              "Happiness Score                  8\n",
              "Standard Error                   8\n",
              "Economy (GDP per Capita)         8\n",
              "Family                           8\n",
              "Health (Life Expectancy)         8\n",
              "Freedom                          8\n",
              "Trust (Government Corruption)    8\n",
              "Generosity                       8\n",
              "Dystopia Residual                8\n",
              "dtype: int64"
            ]
          },
          "metadata": {},
          "execution_count": 66
        }
      ]
    },
    {
      "cell_type": "code",
      "source": [
        "# remove 10% data randomly \n",
        "df_part_10per = df[['Happiness Rank', 'Happiness Score', 'Standard Error', 'Economy (GDP per Capita)', 'Family','Health (Life Expectancy)', 'Freedom','Trust (Government Corruption)','Generosity','Dystopia Residual']];\n",
        "for col in col_list:\n",
        "    df_part_10per.loc[df_part_10per.sample(frac=0.10).index, col] = pd.np.nan"
      ],
      "metadata": {
        "id": "n5hAEIZpGfAp"
      },
      "execution_count": 67,
      "outputs": []
    },
    {
      "cell_type": "code",
      "source": [
        "df_part_10per.isnull().sum()"
      ],
      "metadata": {
        "colab": {
          "base_uri": "https://localhost:8080/"
        },
        "id": "cHX1F2vuGkgx",
        "outputId": "837c8ca5-b6b3-4a9a-c90f-56ec7885a1e4"
      },
      "execution_count": 68,
      "outputs": [
        {
          "output_type": "execute_result",
          "data": {
            "text/plain": [
              "Happiness Rank                   16\n",
              "Happiness Score                  16\n",
              "Standard Error                   16\n",
              "Economy (GDP per Capita)         16\n",
              "Family                           16\n",
              "Health (Life Expectancy)         16\n",
              "Freedom                          16\n",
              "Trust (Government Corruption)    16\n",
              "Generosity                       16\n",
              "Dystopia Residual                16\n",
              "dtype: int64"
            ]
          },
          "metadata": {},
          "execution_count": 68
        }
      ]
    },
    {
      "cell_type": "markdown",
      "source": [
        "**1: Mean Imputer for imputing missing data** "
      ],
      "metadata": {
        "id": "mN5o3yV-GrpA"
      }
    },
    {
      "cell_type": "code",
      "source": [
        "# \n",
        "\n",
        "from sklearn.impute import SimpleImputer\n",
        "# 1%\n",
        "imp_mean = SimpleImputer(strategy='mean')\n",
        "imp_mean.fit(df_part_1per)\n",
        "imp_mean_df_1per = imp_mean.transform(df_part_1per)\n",
        "imp_mean_df_1per = pd.DataFrame(imp_mean_df_1per,columns = ['Happiness Rank', 'Happiness Score', 'Standard Error', 'Economy (GDP per Capita)', 'Family','Health (Life Expectancy)', 'Freedom','Trust (Government Corruption)','Generosity','Dystopia Residual'])\n",
        "imp_mean_df_1per.isnull().sum()\n",
        "\n",
        "# 5%\n",
        "imp_mean = SimpleImputer(strategy='mean')\n",
        "imp_mean.fit(df_part_1per)\n",
        "imp_mean_df_5per = imp_mean.transform(df_part_5per)\n",
        "imp_mean_df_5per = pd.DataFrame(imp_mean_df_5per,columns = ['Happiness Rank', 'Happiness Score', 'Standard Error', 'Economy (GDP per Capita)', 'Family','Health (Life Expectancy)', 'Freedom','Trust (Government Corruption)','Generosity','Dystopia Residual'])\n",
        "imp_mean_df_5per.isnull().sum()\n",
        "\n",
        "#10%\n",
        "imp_mean = SimpleImputer(strategy='mean')\n",
        "imp_mean.fit(df_part_1per)\n",
        "imp_mean_df_10per = imp_mean.transform(df_part_10per)\n",
        "imp_mean_df_10per = pd.DataFrame(imp_mean_df_10per,columns = ['Happiness Rank', 'Happiness Score', 'Standard Error', 'Economy (GDP per Capita)', 'Family','Health (Life Expectancy)', 'Freedom','Trust (Government Corruption)','Generosity','Dystopia Residual'])\n",
        "imp_mean_df_10per.isnull().sum()"
      ],
      "metadata": {
        "colab": {
          "base_uri": "https://localhost:8080/"
        },
        "id": "KjLlcfiKGrRC",
        "outputId": "9bdf60d0-31fd-41be-929d-6081e0ab7837"
      },
      "execution_count": 69,
      "outputs": [
        {
          "output_type": "execute_result",
          "data": {
            "text/plain": [
              "Happiness Rank                   0\n",
              "Happiness Score                  0\n",
              "Standard Error                   0\n",
              "Economy (GDP per Capita)         0\n",
              "Family                           0\n",
              "Health (Life Expectancy)         0\n",
              "Freedom                          0\n",
              "Trust (Government Corruption)    0\n",
              "Generosity                       0\n",
              "Dystopia Residual                0\n",
              "dtype: int64"
            ]
          },
          "metadata": {},
          "execution_count": 69
        }
      ]
    },
    {
      "cell_type": "markdown",
      "source": [
        " **Method 2: Most frequent method for imputing missing**"
      ],
      "metadata": {
        "id": "vQmW3SZAHxZU"
      }
    },
    {
      "cell_type": "code",
      "source": [
        "# most frequent imputer for missing data\n",
        "\n",
        "from sklearn.impute import SimpleImputer\n",
        "# 1%\n",
        "imp_freq = SimpleImputer(strategy='most_frequent')\n",
        "imp_freq.fit(df_part_1per)\n",
        "imp_freq_df_1per = imp_mean.transform(df_part_1per)\n",
        "imp_freq_df_1per = pd.DataFrame(imp_freq_df_1per,columns = ['Happiness Rank', 'Happiness Score', 'Standard Error', 'Economy (GDP per Capita)', 'Family','Health (Life Expectancy)', 'Freedom','Trust (Government Corruption)','Generosity','Dystopia Residual'])\n",
        "imp_freq_df_1per.isnull().sum()\n",
        "\n",
        "# 5%\n",
        "imp_freq = SimpleImputer(strategy='most_frequent')\n",
        "imp_freq.fit(df_part_1per)\n",
        "imp_freq_df_5per = imp_mean.transform(df_part_5per)\n",
        "imp_freq_df_5per = pd.DataFrame(imp_freq_df_5per,columns = ['Happiness Rank', 'Happiness Score', 'Standard Error', 'Economy (GDP per Capita)', 'Family','Health (Life Expectancy)', 'Freedom','Trust (Government Corruption)','Generosity','Dystopia Residual'])\n",
        "imp_freq_df_5per.isnull().sum()\n",
        "\n",
        "#10%\n",
        "imp_freq = SimpleImputer(strategy='most_frequent')\n",
        "imp_freq.fit(df_part_1per)\n",
        "imp_freq_df_10per = imp_mean.transform(df_part_10per)\n",
        "imp_freq_df_10per = pd.DataFrame(imp_freq_df_10per,columns = ['Happiness Rank', 'Happiness Score', 'Standard Error', 'Economy (GDP per Capita)', 'Family','Health (Life Expectancy)', 'Freedom','Trust (Government Corruption)','Generosity','Dystopia Residual'])\n",
        "imp_freq_df_10per.isnull().sum()"
      ],
      "metadata": {
        "colab": {
          "base_uri": "https://localhost:8080/"
        },
        "id": "BK-YTgwqHwwY",
        "outputId": "be81b6e2-e4ce-48cf-b671-360497a50949"
      },
      "execution_count": 70,
      "outputs": [
        {
          "output_type": "execute_result",
          "data": {
            "text/plain": [
              "Happiness Rank                   0\n",
              "Happiness Score                  0\n",
              "Standard Error                   0\n",
              "Economy (GDP per Capita)         0\n",
              "Family                           0\n",
              "Health (Life Expectancy)         0\n",
              "Freedom                          0\n",
              "Trust (Government Corruption)    0\n",
              "Generosity                       0\n",
              "Dystopia Residual                0\n",
              "dtype: int64"
            ]
          },
          "metadata": {},
          "execution_count": 70
        }
      ]
    },
    {
      "cell_type": "markdown",
      "source": [
        " **Method 3: KNN imputer method for imputing missing**\n"
      ],
      "metadata": {
        "id": "oMwDCbLIIj8t"
      }
    },
    {
      "cell_type": "code",
      "source": [
        "# knn  imputer for missing data\n",
        "from sklearn.impute import KNNImputer\n",
        "\n",
        "# start the KNN training\n",
        "imputer = KNNImputer(n_neighbors=2)\n",
        "#1% missing value\n",
        "imp_knn_df_1per = imputer.fit_transform(df_part_1per)\n",
        "imp_knn_df_1per = pd.DataFrame(imp_knn_df_1per,columns = ['Happiness Rank', 'Happiness Score', 'Standard Error', 'Economy (GDP per Capita)', 'Family','Health (Life Expectancy)', 'Freedom','Trust (Government Corruption)','Generosity','Dystopia Residual'])\n",
        "imp_knn_df_1per.isnull().sum()\n",
        "\n",
        "#5% missing value\n",
        "imp_knn_df_5per = imputer.fit_transform(df_part_5per)\n",
        "imp_knn_df_5per = pd.DataFrame(imp_knn_df_5per,columns = ['Happiness Rank', 'Happiness Score', 'Standard Error', 'Economy (GDP per Capita)', 'Family','Health (Life Expectancy)', 'Freedom','Trust (Government Corruption)','Generosity','Dystopia Residual'])\n",
        "imp_knn_df_5per.isnull().sum()\n",
        "\n",
        "#10% missing value\n",
        "imp_knn_df_10per = imputer.fit_transform(df_part_10per)\n",
        "imp_knn_df_10per = pd.DataFrame(imp_knn_df_10per,columns = ['Happiness Rank', 'Happiness Score', 'Standard Error', 'Economy (GDP per Capita)', 'Family','Health (Life Expectancy)', 'Freedom','Trust (Government Corruption)','Generosity','Dystopia Residual'])\n",
        "imp_knn_df_10per.isnull().sum()"
      ],
      "metadata": {
        "colab": {
          "base_uri": "https://localhost:8080/"
        },
        "id": "7zqNLkaxIja9",
        "outputId": "230af223-5955-415b-9dc5-53bcd8ad486d"
      },
      "execution_count": 71,
      "outputs": [
        {
          "output_type": "execute_result",
          "data": {
            "text/plain": [
              "Happiness Rank                   0\n",
              "Happiness Score                  0\n",
              "Standard Error                   0\n",
              "Economy (GDP per Capita)         0\n",
              "Family                           0\n",
              "Health (Life Expectancy)         0\n",
              "Freedom                          0\n",
              "Trust (Government Corruption)    0\n",
              "Generosity                       0\n",
              "Dystopia Residual                0\n",
              "dtype: int64"
            ]
          },
          "metadata": {},
          "execution_count": 71
        }
      ]
    },
    {
      "cell_type": "markdown",
      "source": [
        "Creating a function to calculate Residual for imputated dataset"
      ],
      "metadata": {
        "id": "7IppB8HvyqNc"
      }
    },
    {
      "cell_type": "code",
      "source": [
        "#  a method to calculate residual  \n",
        "def get_residual(expected,predicted):\n",
        "    expected_only = []\n",
        "    predicted_only = []\n",
        "    residuals = []\n",
        "    for colums, content in expected.items():\n",
        "            for index in range(0,len(content)-1):\n",
        "                if(expected[colums][index]!=predicted[colums][index]):\n",
        "                    expected_only.append(expected[colums][index])\n",
        "                    predicted_only.append(predicted[colums][index])\n",
        "                    residuals.append(expected[colums][index]-predicted[colums][index])\n",
        "    return expected_only,predicted_only,residuals"
      ],
      "metadata": {
        "id": "bGmLeKnvJBNl"
      },
      "execution_count": 72,
      "outputs": []
    },
    {
      "cell_type": "code",
      "source": [
        "expected = df[['Happiness Rank', 'Happiness Score', 'Standard Error', 'Economy (GDP per Capita)', 'Family','Health (Life Expectancy)', 'Freedom','Trust (Government Corruption)','Generosity','Dystopia Residual']]\n",
        "# mean imputation method\n",
        "expected_only_mean,predicted_only_mean,residuals_mean = get_residual(expected,imp_mean_df_1per)\n",
        "\n",
        "#most frequent imputation method\n",
        "expected_only_freq,predicted_only_freq,residuals_freq = get_residual(expected,imp_freq_df_1per)\n",
        "\n",
        "#knn imputation method\n",
        "expected_only_knn,predicted_only_knn,residuals_knn = get_residual(expected,imp_knn_df_1per)"
      ],
      "metadata": {
        "id": "yCzDrZDPJCg3"
      },
      "execution_count": 73,
      "outputs": []
    },
    {
      "cell_type": "code",
      "source": [
        "def add_plot(plt,predicted_only,residuals):\n",
        "    return"
      ],
      "metadata": {
        "id": "diWMvnIeJJTi"
      },
      "execution_count": 74,
      "outputs": []
    },
    {
      "cell_type": "code",
      "source": [
        "import matplotlib.pyplot as plt\n",
        "plt.figure(figsize=(20,5))\n",
        "plt.subplot(1,3,1)\n",
        "plt.scatter(predicted_only_mean,residuals_mean)\n",
        "plt.xlabel(\"predicted value\",fontsize=15)\n",
        "plt.ylabel(\"residuals error\",fontsize=15)\n",
        "plt.title(\"scatter plot of mean \".format(c),fontsize=16)\n",
        "plt.grid(True)\n",
        "plt.subplot(1,3,2)\n",
        "plt.scatter(predicted_only_freq,residuals_mean)\n",
        "plt.xlabel(\"predicted value\",fontsize=15)\n",
        "plt.ylabel(\"residuals error\",fontsize=15)\n",
        "plt.title(\"scatter plot of most frequent \",fontsize=16)\n",
        "plt.grid(True)\n",
        "plt.subplot(1,3,3)\n",
        "plt.scatter(predicted_only_knn,residuals_knn)\n",
        "plt.xlabel(\"predicted value\",fontsize=15)\n",
        "plt.ylabel(\"residuals error\",fontsize=15)\n",
        "plt.title(\"scatter plot of knn \",fontsize=16)\n",
        "plt.grid(True)\n",
        "plt.show()"
      ],
      "metadata": {
        "colab": {
          "base_uri": "https://localhost:8080/",
          "height": 357
        },
        "id": "Fpt-N9zAJLhJ",
        "outputId": "77e3683b-87e3-453d-d805-2d20af1695ac"
      },
      "execution_count": 75,
      "outputs": [
        {
          "output_type": "display_data",
          "data": {
            "text/plain": [
              "<Figure size 1440x360 with 3 Axes>"
            ],
            "image/png": "[encoded data removed]"
          },
          "metadata": {
            "needs_background": "light"
          }
        }
      ]
    },
    {
      "cell_type": "code",
      "source": [
        "# bias and variance of residuals error\n",
        "import statistics \n",
        "c = sum(residuals_mean)**2/len(residuals_mean)\n",
        "print('mean imputation method bais error is {}'.format(c),)\n",
        "c = sum(residuals_freq)**2/len(residuals_freq)\n",
        "print('most frequent imputation method bais error is {}'.format(c),)\n",
        "c= sum(residuals_knn)**2/len(residuals_knn)\n",
        "print('KNN imputation method bais error is {} \\n'.format(c),)\n",
        "\n",
        "\n",
        "res = statistics.variance(residuals_mean)\n",
        "print('mean imputation method variance is {}'.format(res),)\n",
        "res = statistics.variance(residuals_freq)\n",
        "print('most frequent imputation method variance is {}'.format(res),)\n",
        "res = statistics.variance(residuals_knn)\n",
        "print('KNN imputation method variance is {}'.format(res),)"
      ],
      "metadata": {
        "colab": {
          "base_uri": "https://localhost:8080/"
        },
        "id": "6jFqVS2tJP0u",
        "outputId": "37b947f3-5908-4475-ae1f-7090cc8fec91"
      },
      "execution_count": 76,
      "outputs": [
        {
          "output_type": "stream",
          "name": "stdout",
          "text": [
            "mean imputation method bais error is 0.0014982137971886272\n",
            "most frequent imputation method bais error is 0.0014982137971886272\n",
            "KNN imputation method bais error is 0.01583461800655434 \n",
            "\n",
            "mean imputation method variance is 0.023332166111795158\n",
            "most frequent imputation method variance is 0.023332166111795158\n",
            "KNN imputation method variance is 0.01509621550223841\n"
          ]
        }
      ]
    },
    {
      "cell_type": "markdown",
      "source": [
        "# 5% missing value"
      ],
      "metadata": {
        "id": "2FJNghCBJVVy"
      }
    },
    {
      "cell_type": "code",
      "source": [
        "# mean imputation method\n",
        "expected_only_mean,predicted_only_mean,residuals_mean = get_residual(expected,imp_mean_df_5per)\n",
        "\n",
        "#most frequent imputation method\n",
        "expected_only_freq,predicted_only_freq,residuals_freq = get_residual(expected,imp_freq_df_5per)\n",
        "\n",
        "#knn imputation method\n",
        "expected_only_knn,predicted_only_knn,residuals_knn = get_residual(expected,imp_knn_df_5per)"
      ],
      "metadata": {
        "id": "qZM_-XCSJTRy"
      },
      "execution_count": 77,
      "outputs": []
    },
    {
      "cell_type": "code",
      "source": [
        "plt.figure(figsize=(20,5))\n",
        "plt.subplot(1,3,1)\n",
        "plt.scatter(predicted_only_mean,residuals_mean)\n",
        "plt.xlabel(\"predicted value\",fontsize=15)\n",
        "plt.ylabel(\"residuals error\",fontsize=15)\n",
        "plt.title(\"scatter plot of mean \".format(c),fontsize=16)\n",
        "plt.grid(True)\n",
        "plt.subplot(1,3,2)\n",
        "plt.scatter(predicted_only_freq,residuals_mean)\n",
        "plt.xlabel(\"predicted value\",fontsize=15)\n",
        "plt.ylabel(\"residuals error\",fontsize=15)\n",
        "plt.title(\"scatter plot of most frequent \",fontsize=16)\n",
        "plt.grid(True)\n",
        "plt.subplot(1,3,3)\n",
        "plt.scatter(predicted_only_knn,residuals_knn)\n",
        "plt.xlabel(\"predicted value\",fontsize=15)\n",
        "plt.ylabel(\"residuals error\",fontsize=15)\n",
        "plt.title(\"scatter plot of knn \",fontsize=16)\n",
        "plt.grid(True)\n",
        "plt.show()"
      ],
      "metadata": {
        "colab": {
          "base_uri": "https://localhost:8080/",
          "height": 357
        },
        "id": "PTs9GbfSJcLH",
        "outputId": "90dd26a8-883f-4691-8e47-231158d1bb0a"
      },
      "execution_count": 78,
      "outputs": [
        {
          "output_type": "display_data",
          "data": {
            "text/plain": [
              "<Figure size 1440x360 with 3 Axes>"
            ],
            "image/png": "[encoded data removed]"
          },
          "metadata": {
            "needs_background": "light"
          }
        }
      ]
    },
    {
      "cell_type": "code",
      "source": [
        "# bias and variance of residuals error\n",
        "import statistics \n",
        "c = sum(residuals_mean)**2/len(residuals_mean)\n",
        "print('mean imputation method bais error is {}'.format(c),)\n",
        "c = sum(residuals_freq)**2/len(residuals_freq)\n",
        "print('most frequent imputation method bais error is {}'.format(c),)\n",
        "c= sum(residuals_knn)**2/len(residuals_knn)\n",
        "print('KNN imputation method bais error is {} \\n'.format(c),)\n",
        "\n",
        "\n",
        "res = statistics.variance(residuals_mean)\n",
        "print('mean imputation method variance is {}'.format(res),)\n",
        "res = statistics.variance(residuals_freq)\n",
        "print('most frequent imputation method variance is {}'.format(res),)\n",
        "res = statistics.variance(residuals_knn)\n",
        "print('KNN imputation method variance is {}'.format(res),)"
      ],
      "metadata": {
        "colab": {
          "base_uri": "https://localhost:8080/"
        },
        "id": "nCQKTj1UJer-",
        "outputId": "d2270712-bf0f-4127-dc6d-0264097a3fef"
      },
      "execution_count": 79,
      "outputs": [
        {
          "output_type": "stream",
          "name": "stdout",
          "text": [
            "mean imputation method bais error is 0.031708973074274706\n",
            "most frequent imputation method bais error is 0.031708973074274706\n",
            "KNN imputation method bais error is 0.006246444000499502 \n",
            "\n",
            "mean imputation method variance is 0.029332680490810524\n",
            "most frequent imputation method variance is 0.029332680490810524\n",
            "KNN imputation method variance is 0.009718749623247125\n"
          ]
        }
      ]
    },
    {
      "cell_type": "markdown",
      "source": [
        "# 10% missing value"
      ],
      "metadata": {
        "id": "-zDRYWs6Jlu4"
      }
    },
    {
      "cell_type": "code",
      "source": [
        "# mean imputation method\n",
        "expected_only_mean,predicted_only_mean,residuals_mean = get_residual(expected,imp_mean_df_10per)\n",
        "\n",
        "#most frequent imputation method\n",
        "expected_only_freq,predicted_only_freq,residuals_freq = get_residual(expected,imp_freq_df_10per)\n",
        "\n",
        "#knn imputation method\n",
        "expected_only_knn,predicted_only_knn,residuals_knn = get_residual(expected,imp_knn_df_10per)"
      ],
      "metadata": {
        "id": "UmUTGKy7JhXI"
      },
      "execution_count": 80,
      "outputs": []
    },
    {
      "cell_type": "code",
      "source": [
        "plt.figure(figsize=(20,5))\n",
        "plt.subplot(1,3,1)\n",
        "plt.scatter(predicted_only_mean,residuals_mean)\n",
        "plt.xlabel(\"predicted value\",fontsize=15)\n",
        "plt.ylabel(\"residuals error\",fontsize=15)\n",
        "plt.title(\"scatter plot of mean \".format(c),fontsize=16)\n",
        "plt.grid(True)\n",
        "plt.subplot(1,3,2)\n",
        "plt.scatter(predicted_only_freq,residuals_mean)\n",
        "plt.xlabel(\"predicted value\",fontsize=15)\n",
        "plt.ylabel(\"residuals error\",fontsize=15)\n",
        "plt.title(\"scatter plot of most frequent \",fontsize=16)\n",
        "plt.grid(True)\n",
        "plt.subplot(1,3,3)\n",
        "plt.scatter(predicted_only_knn,residuals_knn)\n",
        "plt.xlabel(\"predicted value\",fontsize=15)\n",
        "plt.ylabel(\"residuals error\",fontsize=15)\n",
        "plt.title(\"scatter plot of knn \",fontsize=16)\n",
        "plt.grid(True)\n",
        "plt.show()"
      ],
      "metadata": {
        "colab": {
          "base_uri": "https://localhost:8080/",
          "height": 357
        },
        "id": "qTTjOTVdJqx2",
        "outputId": "50a2e297-bc19-4214-c772-c7fd10741675"
      },
      "execution_count": 81,
      "outputs": [
        {
          "output_type": "display_data",
          "data": {
            "text/plain": [
              "<Figure size 1440x360 with 3 Axes>"
            ],
            "image/png": "[encoded data removed]"
          },
          "metadata": {
            "needs_background": "light"
          }
        }
      ]
    },
    {
      "cell_type": "code",
      "source": [
        "# bias and variance of residuals error\n",
        "import statistics \n",
        "c = sum(residuals_mean)**2/len(residuals_mean)\n",
        "print('mean imputation method bais error is {}'.format(c),)\n",
        "c = sum(residuals_freq)**2/len(residuals_freq)\n",
        "print('most frequent imputation method bais error is {}'.format(c),)\n",
        "c= sum(residuals_knn)**2/len(residuals_knn)\n",
        "print('KNN imputation method bais error is {} \\n'.format(c),)\n",
        "\n",
        "\n",
        "res = statistics.variance(residuals_mean)\n",
        "print('mean imputation method variance is {}'.format(res),)\n",
        "res = statistics.variance(residuals_freq)\n",
        "print('most frequent imputation method variance is {}'.format(res),)\n",
        "res = statistics.variance(residuals_knn)\n",
        "print('KNN imputation method variance is {}'.format(res),)"
      ],
      "metadata": {
        "colab": {
          "base_uri": "https://localhost:8080/"
        },
        "id": "_DfX-EgAJtM4",
        "outputId": "7f6e5964-ab32-4a73-deca-528b02695946"
      },
      "execution_count": 82,
      "outputs": [
        {
          "output_type": "stream",
          "name": "stdout",
          "text": [
            "mean imputation method bais error is 0.0248909953548927\n",
            "most frequent imputation method bais error is 0.0248909953548927\n",
            "KNN imputation method bais error is 0.00526506317931446 \n",
            "\n",
            "mean imputation method variance is 0.03743549104369982\n",
            "most frequent imputation method variance is 0.03743549104369982\n",
            "KNN imputation method variance is 0.013346747166333571\n"
          ]
        }
      ]
    },
    {
      "cell_type": "code",
      "source": [],
      "metadata": {
        "id": "KyG9-rNMWIEi"
      },
      "execution_count": null,
      "outputs": []
    },
    {
      "cell_type": "markdown",
      "source": [
        "# Conclusion\n",
        "\n",
        "From the above analysis it is clear that Happiness Score can be well predicted by almost all the independent variables since they all are significant variables as per the regression results."
      ],
      "metadata": {
        "id": "pMfCVAcqzFta"
      }
    },
    {
      "cell_type": "markdown",
      "source": [
        "# Refrences\n",
        "\n",
        "\n",
        "\n",
        "\n",
        "1.   GeeksForGeeks Quantile-Quantile plot documentation https://www.geeksforgeeks.org/qqplot-quantile-quantile-plot-in-python/\n",
        "2.   Matplotlib documentation, Scikit-learn Documentation, Pandas Official Documentation, Analytics Vidya\n",
        "3.  Many techniques used in this notebook have been adopted from the following\n",
        " github repositories\n",
        " \n",
        "*   Owner - AI SkunkworksLink - https://github.com/aiskunks/Skunks_SkoolAuthor \n",
        "*   name - Prof Nik Bear BrownLink - https://github.com/nikbearbrown/\n",
        "\n",
        "4. The methods and parameters of the models amd code corrections have been adapted from stackoverflowLink - https://stackoverflow.com\n",
        "\n",
        "\n",
        "\n",
        "\n"
      ],
      "metadata": {
        "id": "5Iu22jIPzGCA"
      }
    },
    {
      "cell_type": "markdown",
      "source": [
        "LicensingCopyright 2023 Vivek Basavanth Hanagoji\n",
        "\n",
        "Permission is hereby granted, free of charge, to any person obtaining a copy of this software and associated documentation files (the \"Software\"), to deal in the Software without restriction, including without limitation the rights to use, copy, modify, merge, publish, distribute, sublicense, and/or sell copies of the Software, and to permit persons to whom the Software is furnished to do so, subject to the following conditions:The above copyright notice and this permission notice shall be included in all copies or substantial portions of the Software.\n",
        "\n",
        "\n",
        "*THE SOFTWARE IS PROVIDED \"AS IS\", WITHOUT WARRANTY OF ANY KIND, EXPRESS OR IMPLIED, INCLUDING BUT NOT LIMITED TO THE WARRANTIES OF MERCHANTABILITY, FITNESS FOR A PARTICULAR PURPOSE AND NONINFRINGEMENT. IN NO EVENT SHALL THE AUTHORS OR COPYRIGHT HOLDERS BE LIABLE FOR ANY CLAIM, DAMAGES OR OTHER LIABILITY, WHETHER IN AN ACTION OF CONTRACT, TORT OR OTHERWISE, ARISING FROM, OUT OF OR IN CONNECTION WITH THE SOFTWARE OR THE USE OR OTHER DEALINGS IN THE SOFTWARE.*"
      ],
      "metadata": {
        "id": "ZMh7XB-H1cLz"
      }
    }
  ]
}